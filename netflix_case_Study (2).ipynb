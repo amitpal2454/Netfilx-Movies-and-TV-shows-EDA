{
  "cells": [
    {
      "cell_type": "code",
      "execution_count": 2,
      "id": "678b76f0",
      "metadata": {
        "id": "678b76f0"
      },
      "outputs": [],
      "source": [
        "import pandas as pd\n",
        "import matplotlib.pyplot as plt\n",
        "import seaborn as sns\n",
        "import numpy as np"
      ]
    },
    {
      "cell_type": "code",
      "execution_count": 5,
      "id": "797ebb05",
      "metadata": {
        "colab": {
          "base_uri": "https://localhost:8080/",
          "height": 687
        },
        "id": "797ebb05",
        "outputId": "1ba1903f-6843-4254-987f-1c9b40c5efbf"
      },
      "outputs": [
        {
          "output_type": "execute_result",
          "data": {
            "text/plain": [
              "    show_id                                title                    director  \\\n",
              "0  81193313                            Chocolate                         NaN   \n",
              "1  81197050  Guatemala: Heart of the Mayan World  Luis Ara, Ignacio Jaunsolo   \n",
              "2  81213894                      The Zoya Factor             Abhishek Sharma   \n",
              "3  81082007                            Atlantics                   Mati Diop   \n",
              "4  80213643                      Chip and Potato                         NaN   \n",
              "\n",
              "                                                cast  \\\n",
              "0  Ha Ji-won, Yoon Kye-sang, Jang Seung-jo, Kang ...   \n",
              "1                                  Christian Morales   \n",
              "2  Sonam Kapoor, Dulquer Salmaan, Sanjay Kapoor, ...   \n",
              "3  Mama Sane, Amadou Mbow, Ibrahima Traore, Nicol...   \n",
              "4  Abigail Oliver, Andrea Libman, Briana Buckmast...   \n",
              "\n",
              "                    country         date_added  release_year rating  \\\n",
              "0               South Korea  November 30, 2019          2019  TV-14   \n",
              "1                       NaN  November 30, 2019          2019   TV-G   \n",
              "2                     India  November 30, 2019          2019  TV-14   \n",
              "3  France, Senegal, Belgium  November 29, 2019          2019  TV-14   \n",
              "4    Canada, United Kingdom                NaN          2019   TV-Y   \n",
              "\n",
              "    duration                                          listed_in  \\\n",
              "0   1 Season  International TV Shows, Korean TV Shows, Roman...   \n",
              "1     67 min                Documentaries, International Movies   \n",
              "2    135 min             Comedies, Dramas, International Movies   \n",
              "3    106 min   Dramas, Independent Movies, International Movies   \n",
              "4  2 Seasons                                           Kids' TV   \n",
              "\n",
              "                                         description     type  \n",
              "0  Brought together by meaningful meals in the pa...  TV Show  \n",
              "1  From Sierra de las Minas to Esquipulas, explor...    Movie  \n",
              "2  A goofy copywriter unwittingly convinces the I...    Movie  \n",
              "3  Arranged to marry a rich man, young Ada is cru...    Movie  \n",
              "4  Lovable pug Chip starts kindergarten, makes ne...  TV Show  "
            ],
            "text/html": [
              "\n",
              "  <div id=\"df-afc16104-2af0-467c-8953-0392ef5a2598\">\n",
              "    <div class=\"colab-df-container\">\n",
              "      <div>\n",
              "<style scoped>\n",
              "    .dataframe tbody tr th:only-of-type {\n",
              "        vertical-align: middle;\n",
              "    }\n",
              "\n",
              "    .dataframe tbody tr th {\n",
              "        vertical-align: top;\n",
              "    }\n",
              "\n",
              "    .dataframe thead th {\n",
              "        text-align: right;\n",
              "    }\n",
              "</style>\n",
              "<table border=\"1\" class=\"dataframe\">\n",
              "  <thead>\n",
              "    <tr style=\"text-align: right;\">\n",
              "      <th></th>\n",
              "      <th>show_id</th>\n",
              "      <th>title</th>\n",
              "      <th>director</th>\n",
              "      <th>cast</th>\n",
              "      <th>country</th>\n",
              "      <th>date_added</th>\n",
              "      <th>release_year</th>\n",
              "      <th>rating</th>\n",
              "      <th>duration</th>\n",
              "      <th>listed_in</th>\n",
              "      <th>description</th>\n",
              "      <th>type</th>\n",
              "    </tr>\n",
              "  </thead>\n",
              "  <tbody>\n",
              "    <tr>\n",
              "      <th>0</th>\n",
              "      <td>81193313</td>\n",
              "      <td>Chocolate</td>\n",
              "      <td>NaN</td>\n",
              "      <td>Ha Ji-won, Yoon Kye-sang, Jang Seung-jo, Kang ...</td>\n",
              "      <td>South Korea</td>\n",
              "      <td>November 30, 2019</td>\n",
              "      <td>2019</td>\n",
              "      <td>TV-14</td>\n",
              "      <td>1 Season</td>\n",
              "      <td>International TV Shows, Korean TV Shows, Roman...</td>\n",
              "      <td>Brought together by meaningful meals in the pa...</td>\n",
              "      <td>TV Show</td>\n",
              "    </tr>\n",
              "    <tr>\n",
              "      <th>1</th>\n",
              "      <td>81197050</td>\n",
              "      <td>Guatemala: Heart of the Mayan World</td>\n",
              "      <td>Luis Ara, Ignacio Jaunsolo</td>\n",
              "      <td>Christian Morales</td>\n",
              "      <td>NaN</td>\n",
              "      <td>November 30, 2019</td>\n",
              "      <td>2019</td>\n",
              "      <td>TV-G</td>\n",
              "      <td>67 min</td>\n",
              "      <td>Documentaries, International Movies</td>\n",
              "      <td>From Sierra de las Minas to Esquipulas, explor...</td>\n",
              "      <td>Movie</td>\n",
              "    </tr>\n",
              "    <tr>\n",
              "      <th>2</th>\n",
              "      <td>81213894</td>\n",
              "      <td>The Zoya Factor</td>\n",
              "      <td>Abhishek Sharma</td>\n",
              "      <td>Sonam Kapoor, Dulquer Salmaan, Sanjay Kapoor, ...</td>\n",
              "      <td>India</td>\n",
              "      <td>November 30, 2019</td>\n",
              "      <td>2019</td>\n",
              "      <td>TV-14</td>\n",
              "      <td>135 min</td>\n",
              "      <td>Comedies, Dramas, International Movies</td>\n",
              "      <td>A goofy copywriter unwittingly convinces the I...</td>\n",
              "      <td>Movie</td>\n",
              "    </tr>\n",
              "    <tr>\n",
              "      <th>3</th>\n",
              "      <td>81082007</td>\n",
              "      <td>Atlantics</td>\n",
              "      <td>Mati Diop</td>\n",
              "      <td>Mama Sane, Amadou Mbow, Ibrahima Traore, Nicol...</td>\n",
              "      <td>France, Senegal, Belgium</td>\n",
              "      <td>November 29, 2019</td>\n",
              "      <td>2019</td>\n",
              "      <td>TV-14</td>\n",
              "      <td>106 min</td>\n",
              "      <td>Dramas, Independent Movies, International Movies</td>\n",
              "      <td>Arranged to marry a rich man, young Ada is cru...</td>\n",
              "      <td>Movie</td>\n",
              "    </tr>\n",
              "    <tr>\n",
              "      <th>4</th>\n",
              "      <td>80213643</td>\n",
              "      <td>Chip and Potato</td>\n",
              "      <td>NaN</td>\n",
              "      <td>Abigail Oliver, Andrea Libman, Briana Buckmast...</td>\n",
              "      <td>Canada, United Kingdom</td>\n",
              "      <td>NaN</td>\n",
              "      <td>2019</td>\n",
              "      <td>TV-Y</td>\n",
              "      <td>2 Seasons</td>\n",
              "      <td>Kids' TV</td>\n",
              "      <td>Lovable pug Chip starts kindergarten, makes ne...</td>\n",
              "      <td>TV Show</td>\n",
              "    </tr>\n",
              "  </tbody>\n",
              "</table>\n",
              "</div>\n",
              "      <button class=\"colab-df-convert\" onclick=\"convertToInteractive('df-afc16104-2af0-467c-8953-0392ef5a2598')\"\n",
              "              title=\"Convert this dataframe to an interactive table.\"\n",
              "              style=\"display:none;\">\n",
              "        \n",
              "  <svg xmlns=\"http://www.w3.org/2000/svg\" height=\"24px\"viewBox=\"0 0 24 24\"\n",
              "       width=\"24px\">\n",
              "    <path d=\"M0 0h24v24H0V0z\" fill=\"none\"/>\n",
              "    <path d=\"M18.56 5.44l.94 2.06.94-2.06 2.06-.94-2.06-.94-.94-2.06-.94 2.06-2.06.94zm-11 1L8.5 8.5l.94-2.06 2.06-.94-2.06-.94L8.5 2.5l-.94 2.06-2.06.94zm10 10l.94 2.06.94-2.06 2.06-.94-2.06-.94-.94-2.06-.94 2.06-2.06.94z\"/><path d=\"M17.41 7.96l-1.37-1.37c-.4-.4-.92-.59-1.43-.59-.52 0-1.04.2-1.43.59L10.3 9.45l-7.72 7.72c-.78.78-.78 2.05 0 2.83L4 21.41c.39.39.9.59 1.41.59.51 0 1.02-.2 1.41-.59l7.78-7.78 2.81-2.81c.8-.78.8-2.07 0-2.86zM5.41 20L4 18.59l7.72-7.72 1.47 1.35L5.41 20z\"/>\n",
              "  </svg>\n",
              "      </button>\n",
              "      \n",
              "  <style>\n",
              "    .colab-df-container {\n",
              "      display:flex;\n",
              "      flex-wrap:wrap;\n",
              "      gap: 12px;\n",
              "    }\n",
              "\n",
              "    .colab-df-convert {\n",
              "      background-color: #E8F0FE;\n",
              "      border: none;\n",
              "      border-radius: 50%;\n",
              "      cursor: pointer;\n",
              "      display: none;\n",
              "      fill: #1967D2;\n",
              "      height: 32px;\n",
              "      padding: 0 0 0 0;\n",
              "      width: 32px;\n",
              "    }\n",
              "\n",
              "    .colab-df-convert:hover {\n",
              "      background-color: #E2EBFA;\n",
              "      box-shadow: 0px 1px 2px rgba(60, 64, 67, 0.3), 0px 1px 3px 1px rgba(60, 64, 67, 0.15);\n",
              "      fill: #174EA6;\n",
              "    }\n",
              "\n",
              "    [theme=dark] .colab-df-convert {\n",
              "      background-color: #3B4455;\n",
              "      fill: #D2E3FC;\n",
              "    }\n",
              "\n",
              "    [theme=dark] .colab-df-convert:hover {\n",
              "      background-color: #434B5C;\n",
              "      box-shadow: 0px 1px 3px 1px rgba(0, 0, 0, 0.15);\n",
              "      filter: drop-shadow(0px 1px 2px rgba(0, 0, 0, 0.3));\n",
              "      fill: #FFFFFF;\n",
              "    }\n",
              "  </style>\n",
              "\n",
              "      <script>\n",
              "        const buttonEl =\n",
              "          document.querySelector('#df-afc16104-2af0-467c-8953-0392ef5a2598 button.colab-df-convert');\n",
              "        buttonEl.style.display =\n",
              "          google.colab.kernel.accessAllowed ? 'block' : 'none';\n",
              "\n",
              "        async function convertToInteractive(key) {\n",
              "          const element = document.querySelector('#df-afc16104-2af0-467c-8953-0392ef5a2598');\n",
              "          const dataTable =\n",
              "            await google.colab.kernel.invokeFunction('convertToInteractive',\n",
              "                                                     [key], {});\n",
              "          if (!dataTable) return;\n",
              "\n",
              "          const docLinkHtml = 'Like what you see? Visit the ' +\n",
              "            '<a target=\"_blank\" href=https://colab.research.google.com/notebooks/data_table.ipynb>data table notebook</a>'\n",
              "            + ' to learn more about interactive tables.';\n",
              "          element.innerHTML = '';\n",
              "          dataTable['output_type'] = 'display_data';\n",
              "          await google.colab.output.renderOutput(dataTable, element);\n",
              "          const docLink = document.createElement('div');\n",
              "          docLink.innerHTML = docLinkHtml;\n",
              "          element.appendChild(docLink);\n",
              "        }\n",
              "      </script>\n",
              "    </div>\n",
              "  </div>\n",
              "  "
            ]
          },
          "metadata": {},
          "execution_count": 5
        }
      ],
      "source": [
        "df=pd.read_csv('/content/drive/MyDrive/netflix_titles_nov_2019.csv')\n",
        "df.head()"
      ]
    },
    {
      "cell_type": "code",
      "source": [
        "from google.colab import drive\n",
        "drive.mount('/content/drive')"
      ],
      "metadata": {
        "colab": {
          "base_uri": "https://localhost:8080/"
        },
        "id": "OKU-Yzw9yHFJ",
        "outputId": "3c396fff-cd57-40a6-f86f-b36fb7582adb"
      },
      "id": "OKU-Yzw9yHFJ",
      "execution_count": 4,
      "outputs": [
        {
          "output_type": "stream",
          "name": "stdout",
          "text": [
            "Mounted at /content/drive\n"
          ]
        }
      ]
    },
    {
      "cell_type": "code",
      "execution_count": 6,
      "id": "576edb8b",
      "metadata": {
        "colab": {
          "base_uri": "https://localhost:8080/"
        },
        "id": "576edb8b",
        "outputId": "ff9bb920-1d55-400c-9226-5294b2926a96"
      },
      "outputs": [
        {
          "output_type": "stream",
          "name": "stdout",
          "text": [
            "<class 'pandas.core.frame.DataFrame'>\n",
            "RangeIndex: 5837 entries, 0 to 5836\n",
            "Data columns (total 12 columns):\n",
            " #   Column        Non-Null Count  Dtype \n",
            "---  ------        --------------  ----- \n",
            " 0   show_id       5837 non-null   int64 \n",
            " 1   title         5837 non-null   object\n",
            " 2   director      3936 non-null   object\n",
            " 3   cast          5281 non-null   object\n",
            " 4   country       5410 non-null   object\n",
            " 5   date_added    5195 non-null   object\n",
            " 6   release_year  5837 non-null   int64 \n",
            " 7   rating        5827 non-null   object\n",
            " 8   duration      5837 non-null   object\n",
            " 9   listed_in     5837 non-null   object\n",
            " 10  description   5837 non-null   object\n",
            " 11  type          5837 non-null   object\n",
            "dtypes: int64(2), object(10)\n",
            "memory usage: 547.3+ KB\n"
          ]
        }
      ],
      "source": [
        "df.info()"
      ]
    },
    {
      "cell_type": "code",
      "execution_count": 7,
      "id": "80b5e758",
      "metadata": {
        "colab": {
          "base_uri": "https://localhost:8080/",
          "height": 300
        },
        "id": "80b5e758",
        "outputId": "45acedfe-52b4-4605-a7db-2d6e445274bb"
      },
      "outputs": [
        {
          "output_type": "execute_result",
          "data": {
            "text/plain": [
              "            show_id  release_year\n",
              "count  5.837000e+03   5837.000000\n",
              "mean   7.730079e+07   2013.688539\n",
              "std    9.479777e+06      8.419088\n",
              "min    2.698800e+05   1925.000000\n",
              "25%    8.004520e+07   2013.000000\n",
              "50%    8.016353e+07   2016.000000\n",
              "75%    8.024188e+07   2018.000000\n",
              "max    8.122720e+07   2020.000000"
            ],
            "text/html": [
              "\n",
              "  <div id=\"df-cdcc4d96-2b97-4ede-b9bc-0697958306d2\">\n",
              "    <div class=\"colab-df-container\">\n",
              "      <div>\n",
              "<style scoped>\n",
              "    .dataframe tbody tr th:only-of-type {\n",
              "        vertical-align: middle;\n",
              "    }\n",
              "\n",
              "    .dataframe tbody tr th {\n",
              "        vertical-align: top;\n",
              "    }\n",
              "\n",
              "    .dataframe thead th {\n",
              "        text-align: right;\n",
              "    }\n",
              "</style>\n",
              "<table border=\"1\" class=\"dataframe\">\n",
              "  <thead>\n",
              "    <tr style=\"text-align: right;\">\n",
              "      <th></th>\n",
              "      <th>show_id</th>\n",
              "      <th>release_year</th>\n",
              "    </tr>\n",
              "  </thead>\n",
              "  <tbody>\n",
              "    <tr>\n",
              "      <th>count</th>\n",
              "      <td>5.837000e+03</td>\n",
              "      <td>5837.000000</td>\n",
              "    </tr>\n",
              "    <tr>\n",
              "      <th>mean</th>\n",
              "      <td>7.730079e+07</td>\n",
              "      <td>2013.688539</td>\n",
              "    </tr>\n",
              "    <tr>\n",
              "      <th>std</th>\n",
              "      <td>9.479777e+06</td>\n",
              "      <td>8.419088</td>\n",
              "    </tr>\n",
              "    <tr>\n",
              "      <th>min</th>\n",
              "      <td>2.698800e+05</td>\n",
              "      <td>1925.000000</td>\n",
              "    </tr>\n",
              "    <tr>\n",
              "      <th>25%</th>\n",
              "      <td>8.004520e+07</td>\n",
              "      <td>2013.000000</td>\n",
              "    </tr>\n",
              "    <tr>\n",
              "      <th>50%</th>\n",
              "      <td>8.016353e+07</td>\n",
              "      <td>2016.000000</td>\n",
              "    </tr>\n",
              "    <tr>\n",
              "      <th>75%</th>\n",
              "      <td>8.024188e+07</td>\n",
              "      <td>2018.000000</td>\n",
              "    </tr>\n",
              "    <tr>\n",
              "      <th>max</th>\n",
              "      <td>8.122720e+07</td>\n",
              "      <td>2020.000000</td>\n",
              "    </tr>\n",
              "  </tbody>\n",
              "</table>\n",
              "</div>\n",
              "      <button class=\"colab-df-convert\" onclick=\"convertToInteractive('df-cdcc4d96-2b97-4ede-b9bc-0697958306d2')\"\n",
              "              title=\"Convert this dataframe to an interactive table.\"\n",
              "              style=\"display:none;\">\n",
              "        \n",
              "  <svg xmlns=\"http://www.w3.org/2000/svg\" height=\"24px\"viewBox=\"0 0 24 24\"\n",
              "       width=\"24px\">\n",
              "    <path d=\"M0 0h24v24H0V0z\" fill=\"none\"/>\n",
              "    <path d=\"M18.56 5.44l.94 2.06.94-2.06 2.06-.94-2.06-.94-.94-2.06-.94 2.06-2.06.94zm-11 1L8.5 8.5l.94-2.06 2.06-.94-2.06-.94L8.5 2.5l-.94 2.06-2.06.94zm10 10l.94 2.06.94-2.06 2.06-.94-2.06-.94-.94-2.06-.94 2.06-2.06.94z\"/><path d=\"M17.41 7.96l-1.37-1.37c-.4-.4-.92-.59-1.43-.59-.52 0-1.04.2-1.43.59L10.3 9.45l-7.72 7.72c-.78.78-.78 2.05 0 2.83L4 21.41c.39.39.9.59 1.41.59.51 0 1.02-.2 1.41-.59l7.78-7.78 2.81-2.81c.8-.78.8-2.07 0-2.86zM5.41 20L4 18.59l7.72-7.72 1.47 1.35L5.41 20z\"/>\n",
              "  </svg>\n",
              "      </button>\n",
              "      \n",
              "  <style>\n",
              "    .colab-df-container {\n",
              "      display:flex;\n",
              "      flex-wrap:wrap;\n",
              "      gap: 12px;\n",
              "    }\n",
              "\n",
              "    .colab-df-convert {\n",
              "      background-color: #E8F0FE;\n",
              "      border: none;\n",
              "      border-radius: 50%;\n",
              "      cursor: pointer;\n",
              "      display: none;\n",
              "      fill: #1967D2;\n",
              "      height: 32px;\n",
              "      padding: 0 0 0 0;\n",
              "      width: 32px;\n",
              "    }\n",
              "\n",
              "    .colab-df-convert:hover {\n",
              "      background-color: #E2EBFA;\n",
              "      box-shadow: 0px 1px 2px rgba(60, 64, 67, 0.3), 0px 1px 3px 1px rgba(60, 64, 67, 0.15);\n",
              "      fill: #174EA6;\n",
              "    }\n",
              "\n",
              "    [theme=dark] .colab-df-convert {\n",
              "      background-color: #3B4455;\n",
              "      fill: #D2E3FC;\n",
              "    }\n",
              "\n",
              "    [theme=dark] .colab-df-convert:hover {\n",
              "      background-color: #434B5C;\n",
              "      box-shadow: 0px 1px 3px 1px rgba(0, 0, 0, 0.15);\n",
              "      filter: drop-shadow(0px 1px 2px rgba(0, 0, 0, 0.3));\n",
              "      fill: #FFFFFF;\n",
              "    }\n",
              "  </style>\n",
              "\n",
              "      <script>\n",
              "        const buttonEl =\n",
              "          document.querySelector('#df-cdcc4d96-2b97-4ede-b9bc-0697958306d2 button.colab-df-convert');\n",
              "        buttonEl.style.display =\n",
              "          google.colab.kernel.accessAllowed ? 'block' : 'none';\n",
              "\n",
              "        async function convertToInteractive(key) {\n",
              "          const element = document.querySelector('#df-cdcc4d96-2b97-4ede-b9bc-0697958306d2');\n",
              "          const dataTable =\n",
              "            await google.colab.kernel.invokeFunction('convertToInteractive',\n",
              "                                                     [key], {});\n",
              "          if (!dataTable) return;\n",
              "\n",
              "          const docLinkHtml = 'Like what you see? Visit the ' +\n",
              "            '<a target=\"_blank\" href=https://colab.research.google.com/notebooks/data_table.ipynb>data table notebook</a>'\n",
              "            + ' to learn more about interactive tables.';\n",
              "          element.innerHTML = '';\n",
              "          dataTable['output_type'] = 'display_data';\n",
              "          await google.colab.output.renderOutput(dataTable, element);\n",
              "          const docLink = document.createElement('div');\n",
              "          docLink.innerHTML = docLinkHtml;\n",
              "          element.appendChild(docLink);\n",
              "        }\n",
              "      </script>\n",
              "    </div>\n",
              "  </div>\n",
              "  "
            ]
          },
          "metadata": {},
          "execution_count": 7
        }
      ],
      "source": [
        "df.describe()"
      ]
    },
    {
      "cell_type": "code",
      "execution_count": 8,
      "id": "7b8df20c",
      "metadata": {
        "colab": {
          "base_uri": "https://localhost:8080/"
        },
        "id": "7b8df20c",
        "outputId": "e4eff864-c5f5-4aa7-8e5b-7ce596a384e4"
      },
      "outputs": [
        {
          "output_type": "execute_result",
          "data": {
            "text/plain": [
              "(5837, 12)"
            ]
          },
          "metadata": {},
          "execution_count": 8
        }
      ],
      "source": [
        "df.shape"
      ]
    },
    {
      "cell_type": "markdown",
      "id": "634e859f",
      "metadata": {
        "id": "634e859f"
      },
      "source": [
        "##DATA Cleaning\n",
        "1.we will perform data cleaning with three major operations\n",
        "\n",
        "a) finding missing vale and filling them            \n",
        "\n",
        "b) finding duplicates values and dropping them\n",
        "\n",
        "c) Finding outliers and removing them"
      ]
    },
    {
      "cell_type": "code",
      "execution_count": 9,
      "id": "2cd61643",
      "metadata": {
        "colab": {
          "base_uri": "https://localhost:8080/"
        },
        "id": "2cd61643",
        "outputId": "9b76d980-176a-4426-c1a2-1f410a84a086"
      },
      "outputs": [
        {
          "output_type": "execute_result",
          "data": {
            "text/plain": [
              "show_id            0\n",
              "title              0\n",
              "director        1901\n",
              "cast             556\n",
              "country          427\n",
              "date_added       642\n",
              "release_year       0\n",
              "rating            10\n",
              "duration           0\n",
              "listed_in          0\n",
              "description        0\n",
              "type               0\n",
              "dtype: int64"
            ]
          },
          "metadata": {},
          "execution_count": 9
        }
      ],
      "source": [
        "df.isnull().sum()"
      ]
    },
    {
      "cell_type": "code",
      "execution_count": 10,
      "id": "8e1ef4c9",
      "metadata": {
        "colab": {
          "base_uri": "https://localhost:8080/",
          "height": 426
        },
        "id": "8e1ef4c9",
        "outputId": "8b417905-5571-4d43-b119-ad17178fb9a7"
      },
      "outputs": [
        {
          "output_type": "execute_result",
          "data": {
            "text/plain": [
              "              percentage_missing\n",
              "show_id                 0.000000\n",
              "title                   0.000000\n",
              "director               32.568100\n",
              "cast                    9.525441\n",
              "country                 7.315402\n",
              "date_added             10.998801\n",
              "release_year            0.000000\n",
              "rating                  0.171321\n",
              "duration                0.000000\n",
              "listed_in               0.000000\n",
              "description             0.000000\n",
              "type                    0.000000"
            ],
            "text/html": [
              "\n",
              "  <div id=\"df-0c93671b-d879-46fc-8502-6aa009359a16\">\n",
              "    <div class=\"colab-df-container\">\n",
              "      <div>\n",
              "<style scoped>\n",
              "    .dataframe tbody tr th:only-of-type {\n",
              "        vertical-align: middle;\n",
              "    }\n",
              "\n",
              "    .dataframe tbody tr th {\n",
              "        vertical-align: top;\n",
              "    }\n",
              "\n",
              "    .dataframe thead th {\n",
              "        text-align: right;\n",
              "    }\n",
              "</style>\n",
              "<table border=\"1\" class=\"dataframe\">\n",
              "  <thead>\n",
              "    <tr style=\"text-align: right;\">\n",
              "      <th></th>\n",
              "      <th>percentage_missing</th>\n",
              "    </tr>\n",
              "  </thead>\n",
              "  <tbody>\n",
              "    <tr>\n",
              "      <th>show_id</th>\n",
              "      <td>0.000000</td>\n",
              "    </tr>\n",
              "    <tr>\n",
              "      <th>title</th>\n",
              "      <td>0.000000</td>\n",
              "    </tr>\n",
              "    <tr>\n",
              "      <th>director</th>\n",
              "      <td>32.568100</td>\n",
              "    </tr>\n",
              "    <tr>\n",
              "      <th>cast</th>\n",
              "      <td>9.525441</td>\n",
              "    </tr>\n",
              "    <tr>\n",
              "      <th>country</th>\n",
              "      <td>7.315402</td>\n",
              "    </tr>\n",
              "    <tr>\n",
              "      <th>date_added</th>\n",
              "      <td>10.998801</td>\n",
              "    </tr>\n",
              "    <tr>\n",
              "      <th>release_year</th>\n",
              "      <td>0.000000</td>\n",
              "    </tr>\n",
              "    <tr>\n",
              "      <th>rating</th>\n",
              "      <td>0.171321</td>\n",
              "    </tr>\n",
              "    <tr>\n",
              "      <th>duration</th>\n",
              "      <td>0.000000</td>\n",
              "    </tr>\n",
              "    <tr>\n",
              "      <th>listed_in</th>\n",
              "      <td>0.000000</td>\n",
              "    </tr>\n",
              "    <tr>\n",
              "      <th>description</th>\n",
              "      <td>0.000000</td>\n",
              "    </tr>\n",
              "    <tr>\n",
              "      <th>type</th>\n",
              "      <td>0.000000</td>\n",
              "    </tr>\n",
              "  </tbody>\n",
              "</table>\n",
              "</div>\n",
              "      <button class=\"colab-df-convert\" onclick=\"convertToInteractive('df-0c93671b-d879-46fc-8502-6aa009359a16')\"\n",
              "              title=\"Convert this dataframe to an interactive table.\"\n",
              "              style=\"display:none;\">\n",
              "        \n",
              "  <svg xmlns=\"http://www.w3.org/2000/svg\" height=\"24px\"viewBox=\"0 0 24 24\"\n",
              "       width=\"24px\">\n",
              "    <path d=\"M0 0h24v24H0V0z\" fill=\"none\"/>\n",
              "    <path d=\"M18.56 5.44l.94 2.06.94-2.06 2.06-.94-2.06-.94-.94-2.06-.94 2.06-2.06.94zm-11 1L8.5 8.5l.94-2.06 2.06-.94-2.06-.94L8.5 2.5l-.94 2.06-2.06.94zm10 10l.94 2.06.94-2.06 2.06-.94-2.06-.94-.94-2.06-.94 2.06-2.06.94z\"/><path d=\"M17.41 7.96l-1.37-1.37c-.4-.4-.92-.59-1.43-.59-.52 0-1.04.2-1.43.59L10.3 9.45l-7.72 7.72c-.78.78-.78 2.05 0 2.83L4 21.41c.39.39.9.59 1.41.59.51 0 1.02-.2 1.41-.59l7.78-7.78 2.81-2.81c.8-.78.8-2.07 0-2.86zM5.41 20L4 18.59l7.72-7.72 1.47 1.35L5.41 20z\"/>\n",
              "  </svg>\n",
              "      </button>\n",
              "      \n",
              "  <style>\n",
              "    .colab-df-container {\n",
              "      display:flex;\n",
              "      flex-wrap:wrap;\n",
              "      gap: 12px;\n",
              "    }\n",
              "\n",
              "    .colab-df-convert {\n",
              "      background-color: #E8F0FE;\n",
              "      border: none;\n",
              "      border-radius: 50%;\n",
              "      cursor: pointer;\n",
              "      display: none;\n",
              "      fill: #1967D2;\n",
              "      height: 32px;\n",
              "      padding: 0 0 0 0;\n",
              "      width: 32px;\n",
              "    }\n",
              "\n",
              "    .colab-df-convert:hover {\n",
              "      background-color: #E2EBFA;\n",
              "      box-shadow: 0px 1px 2px rgba(60, 64, 67, 0.3), 0px 1px 3px 1px rgba(60, 64, 67, 0.15);\n",
              "      fill: #174EA6;\n",
              "    }\n",
              "\n",
              "    [theme=dark] .colab-df-convert {\n",
              "      background-color: #3B4455;\n",
              "      fill: #D2E3FC;\n",
              "    }\n",
              "\n",
              "    [theme=dark] .colab-df-convert:hover {\n",
              "      background-color: #434B5C;\n",
              "      box-shadow: 0px 1px 3px 1px rgba(0, 0, 0, 0.15);\n",
              "      filter: drop-shadow(0px 1px 2px rgba(0, 0, 0, 0.3));\n",
              "      fill: #FFFFFF;\n",
              "    }\n",
              "  </style>\n",
              "\n",
              "      <script>\n",
              "        const buttonEl =\n",
              "          document.querySelector('#df-0c93671b-d879-46fc-8502-6aa009359a16 button.colab-df-convert');\n",
              "        buttonEl.style.display =\n",
              "          google.colab.kernel.accessAllowed ? 'block' : 'none';\n",
              "\n",
              "        async function convertToInteractive(key) {\n",
              "          const element = document.querySelector('#df-0c93671b-d879-46fc-8502-6aa009359a16');\n",
              "          const dataTable =\n",
              "            await google.colab.kernel.invokeFunction('convertToInteractive',\n",
              "                                                     [key], {});\n",
              "          if (!dataTable) return;\n",
              "\n",
              "          const docLinkHtml = 'Like what you see? Visit the ' +\n",
              "            '<a target=\"_blank\" href=https://colab.research.google.com/notebooks/data_table.ipynb>data table notebook</a>'\n",
              "            + ' to learn more about interactive tables.';\n",
              "          element.innerHTML = '';\n",
              "          dataTable['output_type'] = 'display_data';\n",
              "          await google.colab.output.renderOutput(dataTable, element);\n",
              "          const docLink = document.createElement('div');\n",
              "          docLink.innerHTML = docLinkHtml;\n",
              "          element.appendChild(docLink);\n",
              "        }\n",
              "      </script>\n",
              "    </div>\n",
              "  </div>\n",
              "  "
            ]
          },
          "metadata": {},
          "execution_count": 10
        }
      ],
      "source": [
        "percentage_missing_value=df.isnull().sum()*100/len(df)\n",
        "#print(percentage_missing_value)\n",
        "missing_value_df=pd.DataFrame({'percentage_missing':percentage_missing_value})\n",
        "missing_value_df"
      ]
    },
    {
      "cell_type": "code",
      "execution_count": 11,
      "id": "2ae09b52",
      "metadata": {
        "id": "2ae09b52"
      },
      "outputs": [],
      "source": [
        "df['cast']=df['cast'].replace(np.nan,'Unknown')\n",
        "def cast_counter(cast):\n",
        "    if cast=='Unknown':\n",
        "        return 0\n",
        "    else:\n",
        "        lst=cast.split(', ')\n",
        "        length=len(lst)\n",
        "        return length\n",
        "df['number_of_cast']=df['cast'].apply(cast_counter)\n",
        "df['cast']=df['cast'].replace('Unknown',np.nan)"
      ]
    },
    {
      "cell_type": "code",
      "execution_count": 12,
      "id": "89003de3",
      "metadata": {
        "id": "89003de3"
      },
      "outputs": [],
      "source": [
        "df['cast']=df['cast'].fillna(df.cast.mode()[0])\n",
        "df['director']=df['director'].fillna(df.director.mode()[0])\n",
        "df['country']=df['country'].fillna(df.country.mode()[0])\n",
        "df['date_added']=df['date_added'].fillna(df.date_added.mode()[0])\n",
        "df['rating']=df['rating'].fillna(df['rating'].mode()[0])"
      ]
    },
    {
      "cell_type": "code",
      "execution_count": 13,
      "id": "536329bd",
      "metadata": {
        "colab": {
          "base_uri": "https://localhost:8080/"
        },
        "id": "536329bd",
        "outputId": "1e4115bb-76cf-4bd6-c7ea-9f4471936b75"
      },
      "outputs": [
        {
          "output_type": "execute_result",
          "data": {
            "text/plain": [
              "show_id           0\n",
              "title             0\n",
              "director          0\n",
              "cast              0\n",
              "country           0\n",
              "date_added        0\n",
              "release_year      0\n",
              "rating            0\n",
              "duration          0\n",
              "listed_in         0\n",
              "description       0\n",
              "type              0\n",
              "number_of_cast    0\n",
              "dtype: int64"
            ]
          },
          "metadata": {},
          "execution_count": 13
        }
      ],
      "source": [
        "df.isnull().sum()"
      ]
    },
    {
      "cell_type": "code",
      "execution_count": 14,
      "id": "e1aeae97",
      "metadata": {
        "colab": {
          "base_uri": "https://localhost:8080/",
          "height": 332
        },
        "id": "e1aeae97",
        "outputId": "49b33e56-35ef-4e6d-b3f2-34dd51bc06fb"
      },
      "outputs": [
        {
          "output_type": "execute_result",
          "data": {
            "text/plain": [
              "       show_id      title                director  \\\n",
              "1134  80175351  Kakegurui  Raúl Campos, Jan Suter   \n",
              "1741  81072516     Sarkar         A.R. Murugadoss   \n",
              "\n",
              "                                                   cast country  \\\n",
              "1134  Saori Hayami, Minami Tanaka, Tatsuya Tokutake,...   Japan   \n",
              "1741  Vijay, Varalakshmi Sarathkumar, Keerthi Suresh...   India   \n",
              "\n",
              "            date_added  release_year rating   duration  \\\n",
              "1134  November 1, 2019          2019  TV-14  2 Seasons   \n",
              "1741     March 2, 2019          2018  TV-MA    162 min   \n",
              "\n",
              "                                              listed_in  \\\n",
              "1134  Anime Series, International TV Shows, TV Thril...   \n",
              "1741   Action & Adventure, Dramas, International Movies   \n",
              "\n",
              "                                            description     type  \\\n",
              "1134  High roller Yumeko Jabami plans to clean house...  TV Show   \n",
              "1741  A ruthless businessman’s mission to expose ele...    Movie   \n",
              "\n",
              "      number_of_cast  \n",
              "1134              11  \n",
              "1741               6  "
            ],
            "text/html": [
              "\n",
              "  <div id=\"df-20cf38d0-2d05-40a9-8dae-cbfd0511eba9\">\n",
              "    <div class=\"colab-df-container\">\n",
              "      <div>\n",
              "<style scoped>\n",
              "    .dataframe tbody tr th:only-of-type {\n",
              "        vertical-align: middle;\n",
              "    }\n",
              "\n",
              "    .dataframe tbody tr th {\n",
              "        vertical-align: top;\n",
              "    }\n",
              "\n",
              "    .dataframe thead th {\n",
              "        text-align: right;\n",
              "    }\n",
              "</style>\n",
              "<table border=\"1\" class=\"dataframe\">\n",
              "  <thead>\n",
              "    <tr style=\"text-align: right;\">\n",
              "      <th></th>\n",
              "      <th>show_id</th>\n",
              "      <th>title</th>\n",
              "      <th>director</th>\n",
              "      <th>cast</th>\n",
              "      <th>country</th>\n",
              "      <th>date_added</th>\n",
              "      <th>release_year</th>\n",
              "      <th>rating</th>\n",
              "      <th>duration</th>\n",
              "      <th>listed_in</th>\n",
              "      <th>description</th>\n",
              "      <th>type</th>\n",
              "      <th>number_of_cast</th>\n",
              "    </tr>\n",
              "  </thead>\n",
              "  <tbody>\n",
              "    <tr>\n",
              "      <th>1134</th>\n",
              "      <td>80175351</td>\n",
              "      <td>Kakegurui</td>\n",
              "      <td>Raúl Campos, Jan Suter</td>\n",
              "      <td>Saori Hayami, Minami Tanaka, Tatsuya Tokutake,...</td>\n",
              "      <td>Japan</td>\n",
              "      <td>November 1, 2019</td>\n",
              "      <td>2019</td>\n",
              "      <td>TV-14</td>\n",
              "      <td>2 Seasons</td>\n",
              "      <td>Anime Series, International TV Shows, TV Thril...</td>\n",
              "      <td>High roller Yumeko Jabami plans to clean house...</td>\n",
              "      <td>TV Show</td>\n",
              "      <td>11</td>\n",
              "    </tr>\n",
              "    <tr>\n",
              "      <th>1741</th>\n",
              "      <td>81072516</td>\n",
              "      <td>Sarkar</td>\n",
              "      <td>A.R. Murugadoss</td>\n",
              "      <td>Vijay, Varalakshmi Sarathkumar, Keerthi Suresh...</td>\n",
              "      <td>India</td>\n",
              "      <td>March 2, 2019</td>\n",
              "      <td>2018</td>\n",
              "      <td>TV-MA</td>\n",
              "      <td>162 min</td>\n",
              "      <td>Action &amp; Adventure, Dramas, International Movies</td>\n",
              "      <td>A ruthless businessman’s mission to expose ele...</td>\n",
              "      <td>Movie</td>\n",
              "      <td>6</td>\n",
              "    </tr>\n",
              "  </tbody>\n",
              "</table>\n",
              "</div>\n",
              "      <button class=\"colab-df-convert\" onclick=\"convertToInteractive('df-20cf38d0-2d05-40a9-8dae-cbfd0511eba9')\"\n",
              "              title=\"Convert this dataframe to an interactive table.\"\n",
              "              style=\"display:none;\">\n",
              "        \n",
              "  <svg xmlns=\"http://www.w3.org/2000/svg\" height=\"24px\"viewBox=\"0 0 24 24\"\n",
              "       width=\"24px\">\n",
              "    <path d=\"M0 0h24v24H0V0z\" fill=\"none\"/>\n",
              "    <path d=\"M18.56 5.44l.94 2.06.94-2.06 2.06-.94-2.06-.94-.94-2.06-.94 2.06-2.06.94zm-11 1L8.5 8.5l.94-2.06 2.06-.94-2.06-.94L8.5 2.5l-.94 2.06-2.06.94zm10 10l.94 2.06.94-2.06 2.06-.94-2.06-.94-.94-2.06-.94 2.06-2.06.94z\"/><path d=\"M17.41 7.96l-1.37-1.37c-.4-.4-.92-.59-1.43-.59-.52 0-1.04.2-1.43.59L10.3 9.45l-7.72 7.72c-.78.78-.78 2.05 0 2.83L4 21.41c.39.39.9.59 1.41.59.51 0 1.02-.2 1.41-.59l7.78-7.78 2.81-2.81c.8-.78.8-2.07 0-2.86zM5.41 20L4 18.59l7.72-7.72 1.47 1.35L5.41 20z\"/>\n",
              "  </svg>\n",
              "      </button>\n",
              "      \n",
              "  <style>\n",
              "    .colab-df-container {\n",
              "      display:flex;\n",
              "      flex-wrap:wrap;\n",
              "      gap: 12px;\n",
              "    }\n",
              "\n",
              "    .colab-df-convert {\n",
              "      background-color: #E8F0FE;\n",
              "      border: none;\n",
              "      border-radius: 50%;\n",
              "      cursor: pointer;\n",
              "      display: none;\n",
              "      fill: #1967D2;\n",
              "      height: 32px;\n",
              "      padding: 0 0 0 0;\n",
              "      width: 32px;\n",
              "    }\n",
              "\n",
              "    .colab-df-convert:hover {\n",
              "      background-color: #E2EBFA;\n",
              "      box-shadow: 0px 1px 2px rgba(60, 64, 67, 0.3), 0px 1px 3px 1px rgba(60, 64, 67, 0.15);\n",
              "      fill: #174EA6;\n",
              "    }\n",
              "\n",
              "    [theme=dark] .colab-df-convert {\n",
              "      background-color: #3B4455;\n",
              "      fill: #D2E3FC;\n",
              "    }\n",
              "\n",
              "    [theme=dark] .colab-df-convert:hover {\n",
              "      background-color: #434B5C;\n",
              "      box-shadow: 0px 1px 3px 1px rgba(0, 0, 0, 0.15);\n",
              "      filter: drop-shadow(0px 1px 2px rgba(0, 0, 0, 0.3));\n",
              "      fill: #FFFFFF;\n",
              "    }\n",
              "  </style>\n",
              "\n",
              "      <script>\n",
              "        const buttonEl =\n",
              "          document.querySelector('#df-20cf38d0-2d05-40a9-8dae-cbfd0511eba9 button.colab-df-convert');\n",
              "        buttonEl.style.display =\n",
              "          google.colab.kernel.accessAllowed ? 'block' : 'none';\n",
              "\n",
              "        async function convertToInteractive(key) {\n",
              "          const element = document.querySelector('#df-20cf38d0-2d05-40a9-8dae-cbfd0511eba9');\n",
              "          const dataTable =\n",
              "            await google.colab.kernel.invokeFunction('convertToInteractive',\n",
              "                                                     [key], {});\n",
              "          if (!dataTable) return;\n",
              "\n",
              "          const docLinkHtml = 'Like what you see? Visit the ' +\n",
              "            '<a target=\"_blank\" href=https://colab.research.google.com/notebooks/data_table.ipynb>data table notebook</a>'\n",
              "            + ' to learn more about interactive tables.';\n",
              "          element.innerHTML = '';\n",
              "          dataTable['output_type'] = 'display_data';\n",
              "          await google.colab.output.renderOutput(dataTable, element);\n",
              "          const docLink = document.createElement('div');\n",
              "          docLink.innerHTML = docLinkHtml;\n",
              "          element.appendChild(docLink);\n",
              "        }\n",
              "      </script>\n",
              "    </div>\n",
              "  </div>\n",
              "  "
            ]
          },
          "metadata": {},
          "execution_count": 14
        }
      ],
      "source": [
        "duplicate=df.duplicated(['title','country','release_year','type'])\n",
        "df[duplicate]"
      ]
    },
    {
      "cell_type": "code",
      "execution_count": 15,
      "id": "a197c1c4",
      "metadata": {
        "colab": {
          "base_uri": "https://localhost:8080/",
          "height": 315
        },
        "id": "a197c1c4",
        "outputId": "646aceed-9c54-4fa4-fe84-5ef70f72f7ea"
      },
      "outputs": [
        {
          "output_type": "execute_result",
          "data": {
            "text/plain": [
              "       show_id   title         director  \\\n",
              "1740  81075235  Sarkar  A.R. Murugadoss   \n",
              "1741  81072516  Sarkar  A.R. Murugadoss   \n",
              "\n",
              "                                                   cast country  \\\n",
              "1740  Vijay, Varalakshmi Sarathkumar, Keerthi Suresh...   India   \n",
              "1741  Vijay, Varalakshmi Sarathkumar, Keerthi Suresh...   India   \n",
              "\n",
              "         date_added  release_year rating duration  \\\n",
              "1740  March 2, 2019          2018  TV-MA  162 min   \n",
              "1741  March 2, 2019          2018  TV-MA  162 min   \n",
              "\n",
              "                                             listed_in  \\\n",
              "1740  Action & Adventure, Dramas, International Movies   \n",
              "1741  Action & Adventure, Dramas, International Movies   \n",
              "\n",
              "                                            description   type  number_of_cast  \n",
              "1740  A ruthless businessman’s mission to expose ele...  Movie               6  \n",
              "1741  A ruthless businessman’s mission to expose ele...  Movie               6  "
            ],
            "text/html": [
              "\n",
              "  <div id=\"df-511f73ad-c9fe-4aea-8a68-d5673ecaed3b\">\n",
              "    <div class=\"colab-df-container\">\n",
              "      <div>\n",
              "<style scoped>\n",
              "    .dataframe tbody tr th:only-of-type {\n",
              "        vertical-align: middle;\n",
              "    }\n",
              "\n",
              "    .dataframe tbody tr th {\n",
              "        vertical-align: top;\n",
              "    }\n",
              "\n",
              "    .dataframe thead th {\n",
              "        text-align: right;\n",
              "    }\n",
              "</style>\n",
              "<table border=\"1\" class=\"dataframe\">\n",
              "  <thead>\n",
              "    <tr style=\"text-align: right;\">\n",
              "      <th></th>\n",
              "      <th>show_id</th>\n",
              "      <th>title</th>\n",
              "      <th>director</th>\n",
              "      <th>cast</th>\n",
              "      <th>country</th>\n",
              "      <th>date_added</th>\n",
              "      <th>release_year</th>\n",
              "      <th>rating</th>\n",
              "      <th>duration</th>\n",
              "      <th>listed_in</th>\n",
              "      <th>description</th>\n",
              "      <th>type</th>\n",
              "      <th>number_of_cast</th>\n",
              "    </tr>\n",
              "  </thead>\n",
              "  <tbody>\n",
              "    <tr>\n",
              "      <th>1740</th>\n",
              "      <td>81075235</td>\n",
              "      <td>Sarkar</td>\n",
              "      <td>A.R. Murugadoss</td>\n",
              "      <td>Vijay, Varalakshmi Sarathkumar, Keerthi Suresh...</td>\n",
              "      <td>India</td>\n",
              "      <td>March 2, 2019</td>\n",
              "      <td>2018</td>\n",
              "      <td>TV-MA</td>\n",
              "      <td>162 min</td>\n",
              "      <td>Action &amp; Adventure, Dramas, International Movies</td>\n",
              "      <td>A ruthless businessman’s mission to expose ele...</td>\n",
              "      <td>Movie</td>\n",
              "      <td>6</td>\n",
              "    </tr>\n",
              "    <tr>\n",
              "      <th>1741</th>\n",
              "      <td>81072516</td>\n",
              "      <td>Sarkar</td>\n",
              "      <td>A.R. Murugadoss</td>\n",
              "      <td>Vijay, Varalakshmi Sarathkumar, Keerthi Suresh...</td>\n",
              "      <td>India</td>\n",
              "      <td>March 2, 2019</td>\n",
              "      <td>2018</td>\n",
              "      <td>TV-MA</td>\n",
              "      <td>162 min</td>\n",
              "      <td>Action &amp; Adventure, Dramas, International Movies</td>\n",
              "      <td>A ruthless businessman’s mission to expose ele...</td>\n",
              "      <td>Movie</td>\n",
              "      <td>6</td>\n",
              "    </tr>\n",
              "  </tbody>\n",
              "</table>\n",
              "</div>\n",
              "      <button class=\"colab-df-convert\" onclick=\"convertToInteractive('df-511f73ad-c9fe-4aea-8a68-d5673ecaed3b')\"\n",
              "              title=\"Convert this dataframe to an interactive table.\"\n",
              "              style=\"display:none;\">\n",
              "        \n",
              "  <svg xmlns=\"http://www.w3.org/2000/svg\" height=\"24px\"viewBox=\"0 0 24 24\"\n",
              "       width=\"24px\">\n",
              "    <path d=\"M0 0h24v24H0V0z\" fill=\"none\"/>\n",
              "    <path d=\"M18.56 5.44l.94 2.06.94-2.06 2.06-.94-2.06-.94-.94-2.06-.94 2.06-2.06.94zm-11 1L8.5 8.5l.94-2.06 2.06-.94-2.06-.94L8.5 2.5l-.94 2.06-2.06.94zm10 10l.94 2.06.94-2.06 2.06-.94-2.06-.94-.94-2.06-.94 2.06-2.06.94z\"/><path d=\"M17.41 7.96l-1.37-1.37c-.4-.4-.92-.59-1.43-.59-.52 0-1.04.2-1.43.59L10.3 9.45l-7.72 7.72c-.78.78-.78 2.05 0 2.83L4 21.41c.39.39.9.59 1.41.59.51 0 1.02-.2 1.41-.59l7.78-7.78 2.81-2.81c.8-.78.8-2.07 0-2.86zM5.41 20L4 18.59l7.72-7.72 1.47 1.35L5.41 20z\"/>\n",
              "  </svg>\n",
              "      </button>\n",
              "      \n",
              "  <style>\n",
              "    .colab-df-container {\n",
              "      display:flex;\n",
              "      flex-wrap:wrap;\n",
              "      gap: 12px;\n",
              "    }\n",
              "\n",
              "    .colab-df-convert {\n",
              "      background-color: #E8F0FE;\n",
              "      border: none;\n",
              "      border-radius: 50%;\n",
              "      cursor: pointer;\n",
              "      display: none;\n",
              "      fill: #1967D2;\n",
              "      height: 32px;\n",
              "      padding: 0 0 0 0;\n",
              "      width: 32px;\n",
              "    }\n",
              "\n",
              "    .colab-df-convert:hover {\n",
              "      background-color: #E2EBFA;\n",
              "      box-shadow: 0px 1px 2px rgba(60, 64, 67, 0.3), 0px 1px 3px 1px rgba(60, 64, 67, 0.15);\n",
              "      fill: #174EA6;\n",
              "    }\n",
              "\n",
              "    [theme=dark] .colab-df-convert {\n",
              "      background-color: #3B4455;\n",
              "      fill: #D2E3FC;\n",
              "    }\n",
              "\n",
              "    [theme=dark] .colab-df-convert:hover {\n",
              "      background-color: #434B5C;\n",
              "      box-shadow: 0px 1px 3px 1px rgba(0, 0, 0, 0.15);\n",
              "      filter: drop-shadow(0px 1px 2px rgba(0, 0, 0, 0.3));\n",
              "      fill: #FFFFFF;\n",
              "    }\n",
              "  </style>\n",
              "\n",
              "      <script>\n",
              "        const buttonEl =\n",
              "          document.querySelector('#df-511f73ad-c9fe-4aea-8a68-d5673ecaed3b button.colab-df-convert');\n",
              "        buttonEl.style.display =\n",
              "          google.colab.kernel.accessAllowed ? 'block' : 'none';\n",
              "\n",
              "        async function convertToInteractive(key) {\n",
              "          const element = document.querySelector('#df-511f73ad-c9fe-4aea-8a68-d5673ecaed3b');\n",
              "          const dataTable =\n",
              "            await google.colab.kernel.invokeFunction('convertToInteractive',\n",
              "                                                     [key], {});\n",
              "          if (!dataTable) return;\n",
              "\n",
              "          const docLinkHtml = 'Like what you see? Visit the ' +\n",
              "            '<a target=\"_blank\" href=https://colab.research.google.com/notebooks/data_table.ipynb>data table notebook</a>'\n",
              "            + ' to learn more about interactive tables.';\n",
              "          element.innerHTML = '';\n",
              "          dataTable['output_type'] = 'display_data';\n",
              "          await google.colab.output.renderOutput(dataTable, element);\n",
              "          const docLink = document.createElement('div');\n",
              "          docLink.innerHTML = docLinkHtml;\n",
              "          element.appendChild(docLink);\n",
              "        }\n",
              "      </script>\n",
              "    </div>\n",
              "  </div>\n",
              "  "
            ]
          },
          "metadata": {},
          "execution_count": 15
        }
      ],
      "source": [
        "df[(df.title=='Sarkar') | (df.title=='kakegurui')]"
      ]
    },
    {
      "cell_type": "code",
      "execution_count": 16,
      "id": "52968c02",
      "metadata": {
        "colab": {
          "base_uri": "https://localhost:8080/"
        },
        "id": "52968c02",
        "outputId": "ffde2032-d4fe-4cd0-94c5-7ae3b0806692"
      },
      "outputs": [
        {
          "output_type": "execute_result",
          "data": {
            "text/plain": [
              "(5835, 13)"
            ]
          },
          "metadata": {},
          "execution_count": 16
        }
      ],
      "source": [
        "df=df.drop_duplicates(['title','country','release_year','type'])\n",
        "df.shape"
      ]
    },
    {
      "cell_type": "code",
      "execution_count": 17,
      "id": "c4e26e98",
      "metadata": {
        "colab": {
          "base_uri": "https://localhost:8080/",
          "height": 1000
        },
        "id": "c4e26e98",
        "outputId": "1166023e-db1f-49ec-b900-7c89a505639d"
      },
      "outputs": [
        {
          "output_type": "execute_result",
          "data": {
            "text/plain": [
              "                                    title                    director  \\\n",
              "0                               Chocolate      Raúl Campos, Jan Suter   \n",
              "1     Guatemala: Heart of the Mayan World  Luis Ara, Ignacio Jaunsolo   \n",
              "2                         The Zoya Factor             Abhishek Sharma   \n",
              "3                               Atlantics                   Mati Diop   \n",
              "4                         Chip and Potato      Raúl Campos, Jan Suter   \n",
              "...                                   ...                         ...   \n",
              "5832          Mad Ron's Prevues from Hell                  Jim Monaco   \n",
              "5833                             Splatter                   Joe Dante   \n",
              "5834              Just Another Love Story                Ole Bornedal   \n",
              "5835                      Dinner for Five      Raúl Campos, Jan Suter   \n",
              "5836                 To and From New York        Sorin Dan Mihalcescu   \n",
              "\n",
              "                                                   cast  \\\n",
              "0     Ha Ji-won, Yoon Kye-sang, Jang Seung-jo, Kang ...   \n",
              "1                                     Christian Morales   \n",
              "2     Sonam Kapoor, Dulquer Salmaan, Sanjay Kapoor, ...   \n",
              "3     Mama Sane, Amadou Mbow, Ibrahima Traore, Nicol...   \n",
              "4     Abigail Oliver, Andrea Libman, Briana Buckmast...   \n",
              "...                                                 ...   \n",
              "5832  Nick Pawlow, Jordu Schell, Jay Kushwara, Micha...   \n",
              "5833  Corey Feldman, Tony Todd, Tara Leigh, Erin Way...   \n",
              "5834  Anders W. Berthelsen, Rebecka Hemse, Nikolaj L...   \n",
              "5835                                 David Attenborough   \n",
              "5836  Barbara King, Shaana Diya, John Krisiukenas, Y...   \n",
              "\n",
              "                       country         date_added  release_year rating  \\\n",
              "0                  South Korea  November 30, 2019          2019  TV-14   \n",
              "1                United States  November 30, 2019          2019   TV-G   \n",
              "2                        India  November 30, 2019          2019  TV-14   \n",
              "3     France, Senegal, Belgium  November 29, 2019          2019  TV-14   \n",
              "4       Canada, United Kingdom   November 1, 2019          2019   TV-Y   \n",
              "...                        ...                ...           ...    ...   \n",
              "5832             United States   November 1, 2010          1987     NR   \n",
              "5833             United States  November 18, 2009          2009  TV-14   \n",
              "5834                   Denmark        May 5, 2009          2007     NR   \n",
              "5835             United States   February 4, 2008          2007  TV-MA   \n",
              "5836             United States    January 1, 2008          2006     NR   \n",
              "\n",
              "       duration                                          listed_in  \\\n",
              "0      1 Season  International TV Shows, Korean TV Shows, Roman...   \n",
              "1        67 min                Documentaries, International Movies   \n",
              "2       135 min             Comedies, Dramas, International Movies   \n",
              "3       106 min   Dramas, Independent Movies, International Movies   \n",
              "4     2 Seasons                                           Kids' TV   \n",
              "...         ...                                                ...   \n",
              "5832     84 min                         Cult Movies, Horror Movies   \n",
              "5833     29 min                                      Horror Movies   \n",
              "5834    104 min                       Dramas, International Movies   \n",
              "5835   1 Season                       Stand-Up Comedy & Talk Shows   \n",
              "5836     81 min              Dramas, Independent Movies, Thrillers   \n",
              "\n",
              "                                            description     type  \\\n",
              "0     Brought together by meaningful meals in the pa...  TV Show   \n",
              "1     From Sierra de las Minas to Esquipulas, explor...    Movie   \n",
              "2     A goofy copywriter unwittingly convinces the I...    Movie   \n",
              "3     Arranged to marry a rich man, young Ada is cru...    Movie   \n",
              "4     Lovable pug Chip starts kindergarten, makes ne...  TV Show   \n",
              "...                                                 ...      ...   \n",
              "5832  This collection cherry-picks trailers, forgott...    Movie   \n",
              "5833  After committing suicide, a washed-up rocker r...    Movie   \n",
              "5834  When he causes a car accident that leaves a yo...    Movie   \n",
              "5835  In each episode, four celebrities join host Jo...  TV Show   \n",
              "5836  While covering a story in New York City, a Sea...    Movie   \n",
              "\n",
              "      number_of_cast  \n",
              "0                  8  \n",
              "1                  1  \n",
              "2                  8  \n",
              "3                  9  \n",
              "4                 10  \n",
              "...              ...  \n",
              "5832              10  \n",
              "5833               6  \n",
              "5834              12  \n",
              "5835               0  \n",
              "5836               6  \n",
              "\n",
              "[5835 rows x 12 columns]"
            ],
            "text/html": [
              "\n",
              "  <div id=\"df-6e821374-fc55-4819-9142-a2efe57a3ac8\">\n",
              "    <div class=\"colab-df-container\">\n",
              "      <div>\n",
              "<style scoped>\n",
              "    .dataframe tbody tr th:only-of-type {\n",
              "        vertical-align: middle;\n",
              "    }\n",
              "\n",
              "    .dataframe tbody tr th {\n",
              "        vertical-align: top;\n",
              "    }\n",
              "\n",
              "    .dataframe thead th {\n",
              "        text-align: right;\n",
              "    }\n",
              "</style>\n",
              "<table border=\"1\" class=\"dataframe\">\n",
              "  <thead>\n",
              "    <tr style=\"text-align: right;\">\n",
              "      <th></th>\n",
              "      <th>title</th>\n",
              "      <th>director</th>\n",
              "      <th>cast</th>\n",
              "      <th>country</th>\n",
              "      <th>date_added</th>\n",
              "      <th>release_year</th>\n",
              "      <th>rating</th>\n",
              "      <th>duration</th>\n",
              "      <th>listed_in</th>\n",
              "      <th>description</th>\n",
              "      <th>type</th>\n",
              "      <th>number_of_cast</th>\n",
              "    </tr>\n",
              "  </thead>\n",
              "  <tbody>\n",
              "    <tr>\n",
              "      <th>0</th>\n",
              "      <td>Chocolate</td>\n",
              "      <td>Raúl Campos, Jan Suter</td>\n",
              "      <td>Ha Ji-won, Yoon Kye-sang, Jang Seung-jo, Kang ...</td>\n",
              "      <td>South Korea</td>\n",
              "      <td>November 30, 2019</td>\n",
              "      <td>2019</td>\n",
              "      <td>TV-14</td>\n",
              "      <td>1 Season</td>\n",
              "      <td>International TV Shows, Korean TV Shows, Roman...</td>\n",
              "      <td>Brought together by meaningful meals in the pa...</td>\n",
              "      <td>TV Show</td>\n",
              "      <td>8</td>\n",
              "    </tr>\n",
              "    <tr>\n",
              "      <th>1</th>\n",
              "      <td>Guatemala: Heart of the Mayan World</td>\n",
              "      <td>Luis Ara, Ignacio Jaunsolo</td>\n",
              "      <td>Christian Morales</td>\n",
              "      <td>United States</td>\n",
              "      <td>November 30, 2019</td>\n",
              "      <td>2019</td>\n",
              "      <td>TV-G</td>\n",
              "      <td>67 min</td>\n",
              "      <td>Documentaries, International Movies</td>\n",
              "      <td>From Sierra de las Minas to Esquipulas, explor...</td>\n",
              "      <td>Movie</td>\n",
              "      <td>1</td>\n",
              "    </tr>\n",
              "    <tr>\n",
              "      <th>2</th>\n",
              "      <td>The Zoya Factor</td>\n",
              "      <td>Abhishek Sharma</td>\n",
              "      <td>Sonam Kapoor, Dulquer Salmaan, Sanjay Kapoor, ...</td>\n",
              "      <td>India</td>\n",
              "      <td>November 30, 2019</td>\n",
              "      <td>2019</td>\n",
              "      <td>TV-14</td>\n",
              "      <td>135 min</td>\n",
              "      <td>Comedies, Dramas, International Movies</td>\n",
              "      <td>A goofy copywriter unwittingly convinces the I...</td>\n",
              "      <td>Movie</td>\n",
              "      <td>8</td>\n",
              "    </tr>\n",
              "    <tr>\n",
              "      <th>3</th>\n",
              "      <td>Atlantics</td>\n",
              "      <td>Mati Diop</td>\n",
              "      <td>Mama Sane, Amadou Mbow, Ibrahima Traore, Nicol...</td>\n",
              "      <td>France, Senegal, Belgium</td>\n",
              "      <td>November 29, 2019</td>\n",
              "      <td>2019</td>\n",
              "      <td>TV-14</td>\n",
              "      <td>106 min</td>\n",
              "      <td>Dramas, Independent Movies, International Movies</td>\n",
              "      <td>Arranged to marry a rich man, young Ada is cru...</td>\n",
              "      <td>Movie</td>\n",
              "      <td>9</td>\n",
              "    </tr>\n",
              "    <tr>\n",
              "      <th>4</th>\n",
              "      <td>Chip and Potato</td>\n",
              "      <td>Raúl Campos, Jan Suter</td>\n",
              "      <td>Abigail Oliver, Andrea Libman, Briana Buckmast...</td>\n",
              "      <td>Canada, United Kingdom</td>\n",
              "      <td>November 1, 2019</td>\n",
              "      <td>2019</td>\n",
              "      <td>TV-Y</td>\n",
              "      <td>2 Seasons</td>\n",
              "      <td>Kids' TV</td>\n",
              "      <td>Lovable pug Chip starts kindergarten, makes ne...</td>\n",
              "      <td>TV Show</td>\n",
              "      <td>10</td>\n",
              "    </tr>\n",
              "    <tr>\n",
              "      <th>...</th>\n",
              "      <td>...</td>\n",
              "      <td>...</td>\n",
              "      <td>...</td>\n",
              "      <td>...</td>\n",
              "      <td>...</td>\n",
              "      <td>...</td>\n",
              "      <td>...</td>\n",
              "      <td>...</td>\n",
              "      <td>...</td>\n",
              "      <td>...</td>\n",
              "      <td>...</td>\n",
              "      <td>...</td>\n",
              "    </tr>\n",
              "    <tr>\n",
              "      <th>5832</th>\n",
              "      <td>Mad Ron's Prevues from Hell</td>\n",
              "      <td>Jim Monaco</td>\n",
              "      <td>Nick Pawlow, Jordu Schell, Jay Kushwara, Micha...</td>\n",
              "      <td>United States</td>\n",
              "      <td>November 1, 2010</td>\n",
              "      <td>1987</td>\n",
              "      <td>NR</td>\n",
              "      <td>84 min</td>\n",
              "      <td>Cult Movies, Horror Movies</td>\n",
              "      <td>This collection cherry-picks trailers, forgott...</td>\n",
              "      <td>Movie</td>\n",
              "      <td>10</td>\n",
              "    </tr>\n",
              "    <tr>\n",
              "      <th>5833</th>\n",
              "      <td>Splatter</td>\n",
              "      <td>Joe Dante</td>\n",
              "      <td>Corey Feldman, Tony Todd, Tara Leigh, Erin Way...</td>\n",
              "      <td>United States</td>\n",
              "      <td>November 18, 2009</td>\n",
              "      <td>2009</td>\n",
              "      <td>TV-14</td>\n",
              "      <td>29 min</td>\n",
              "      <td>Horror Movies</td>\n",
              "      <td>After committing suicide, a washed-up rocker r...</td>\n",
              "      <td>Movie</td>\n",
              "      <td>6</td>\n",
              "    </tr>\n",
              "    <tr>\n",
              "      <th>5834</th>\n",
              "      <td>Just Another Love Story</td>\n",
              "      <td>Ole Bornedal</td>\n",
              "      <td>Anders W. Berthelsen, Rebecka Hemse, Nikolaj L...</td>\n",
              "      <td>Denmark</td>\n",
              "      <td>May 5, 2009</td>\n",
              "      <td>2007</td>\n",
              "      <td>NR</td>\n",
              "      <td>104 min</td>\n",
              "      <td>Dramas, International Movies</td>\n",
              "      <td>When he causes a car accident that leaves a yo...</td>\n",
              "      <td>Movie</td>\n",
              "      <td>12</td>\n",
              "    </tr>\n",
              "    <tr>\n",
              "      <th>5835</th>\n",
              "      <td>Dinner for Five</td>\n",
              "      <td>Raúl Campos, Jan Suter</td>\n",
              "      <td>David Attenborough</td>\n",
              "      <td>United States</td>\n",
              "      <td>February 4, 2008</td>\n",
              "      <td>2007</td>\n",
              "      <td>TV-MA</td>\n",
              "      <td>1 Season</td>\n",
              "      <td>Stand-Up Comedy &amp; Talk Shows</td>\n",
              "      <td>In each episode, four celebrities join host Jo...</td>\n",
              "      <td>TV Show</td>\n",
              "      <td>0</td>\n",
              "    </tr>\n",
              "    <tr>\n",
              "      <th>5836</th>\n",
              "      <td>To and From New York</td>\n",
              "      <td>Sorin Dan Mihalcescu</td>\n",
              "      <td>Barbara King, Shaana Diya, John Krisiukenas, Y...</td>\n",
              "      <td>United States</td>\n",
              "      <td>January 1, 2008</td>\n",
              "      <td>2006</td>\n",
              "      <td>NR</td>\n",
              "      <td>81 min</td>\n",
              "      <td>Dramas, Independent Movies, Thrillers</td>\n",
              "      <td>While covering a story in New York City, a Sea...</td>\n",
              "      <td>Movie</td>\n",
              "      <td>6</td>\n",
              "    </tr>\n",
              "  </tbody>\n",
              "</table>\n",
              "<p>5835 rows × 12 columns</p>\n",
              "</div>\n",
              "      <button class=\"colab-df-convert\" onclick=\"convertToInteractive('df-6e821374-fc55-4819-9142-a2efe57a3ac8')\"\n",
              "              title=\"Convert this dataframe to an interactive table.\"\n",
              "              style=\"display:none;\">\n",
              "        \n",
              "  <svg xmlns=\"http://www.w3.org/2000/svg\" height=\"24px\"viewBox=\"0 0 24 24\"\n",
              "       width=\"24px\">\n",
              "    <path d=\"M0 0h24v24H0V0z\" fill=\"none\"/>\n",
              "    <path d=\"M18.56 5.44l.94 2.06.94-2.06 2.06-.94-2.06-.94-.94-2.06-.94 2.06-2.06.94zm-11 1L8.5 8.5l.94-2.06 2.06-.94-2.06-.94L8.5 2.5l-.94 2.06-2.06.94zm10 10l.94 2.06.94-2.06 2.06-.94-2.06-.94-.94-2.06-.94 2.06-2.06.94z\"/><path d=\"M17.41 7.96l-1.37-1.37c-.4-.4-.92-.59-1.43-.59-.52 0-1.04.2-1.43.59L10.3 9.45l-7.72 7.72c-.78.78-.78 2.05 0 2.83L4 21.41c.39.39.9.59 1.41.59.51 0 1.02-.2 1.41-.59l7.78-7.78 2.81-2.81c.8-.78.8-2.07 0-2.86zM5.41 20L4 18.59l7.72-7.72 1.47 1.35L5.41 20z\"/>\n",
              "  </svg>\n",
              "      </button>\n",
              "      \n",
              "  <style>\n",
              "    .colab-df-container {\n",
              "      display:flex;\n",
              "      flex-wrap:wrap;\n",
              "      gap: 12px;\n",
              "    }\n",
              "\n",
              "    .colab-df-convert {\n",
              "      background-color: #E8F0FE;\n",
              "      border: none;\n",
              "      border-radius: 50%;\n",
              "      cursor: pointer;\n",
              "      display: none;\n",
              "      fill: #1967D2;\n",
              "      height: 32px;\n",
              "      padding: 0 0 0 0;\n",
              "      width: 32px;\n",
              "    }\n",
              "\n",
              "    .colab-df-convert:hover {\n",
              "      background-color: #E2EBFA;\n",
              "      box-shadow: 0px 1px 2px rgba(60, 64, 67, 0.3), 0px 1px 3px 1px rgba(60, 64, 67, 0.15);\n",
              "      fill: #174EA6;\n",
              "    }\n",
              "\n",
              "    [theme=dark] .colab-df-convert {\n",
              "      background-color: #3B4455;\n",
              "      fill: #D2E3FC;\n",
              "    }\n",
              "\n",
              "    [theme=dark] .colab-df-convert:hover {\n",
              "      background-color: #434B5C;\n",
              "      box-shadow: 0px 1px 3px 1px rgba(0, 0, 0, 0.15);\n",
              "      filter: drop-shadow(0px 1px 2px rgba(0, 0, 0, 0.3));\n",
              "      fill: #FFFFFF;\n",
              "    }\n",
              "  </style>\n",
              "\n",
              "      <script>\n",
              "        const buttonEl =\n",
              "          document.querySelector('#df-6e821374-fc55-4819-9142-a2efe57a3ac8 button.colab-df-convert');\n",
              "        buttonEl.style.display =\n",
              "          google.colab.kernel.accessAllowed ? 'block' : 'none';\n",
              "\n",
              "        async function convertToInteractive(key) {\n",
              "          const element = document.querySelector('#df-6e821374-fc55-4819-9142-a2efe57a3ac8');\n",
              "          const dataTable =\n",
              "            await google.colab.kernel.invokeFunction('convertToInteractive',\n",
              "                                                     [key], {});\n",
              "          if (!dataTable) return;\n",
              "\n",
              "          const docLinkHtml = 'Like what you see? Visit the ' +\n",
              "            '<a target=\"_blank\" href=https://colab.research.google.com/notebooks/data_table.ipynb>data table notebook</a>'\n",
              "            + ' to learn more about interactive tables.';\n",
              "          element.innerHTML = '';\n",
              "          dataTable['output_type'] = 'display_data';\n",
              "          await google.colab.output.renderOutput(dataTable, element);\n",
              "          const docLink = document.createElement('div');\n",
              "          docLink.innerHTML = docLinkHtml;\n",
              "          element.appendChild(docLink);\n",
              "        }\n",
              "      </script>\n",
              "    </div>\n",
              "  </div>\n",
              "  "
            ]
          },
          "metadata": {},
          "execution_count": 17
        }
      ],
      "source": [
        "df.drop('show_id',axis=1)"
      ]
    },
    {
      "cell_type": "code",
      "execution_count": 19,
      "id": "b0274f1c",
      "metadata": {
        "colab": {
          "base_uri": "https://localhost:8080/",
          "height": 265
        },
        "id": "b0274f1c",
        "outputId": "bc40bb60-47db-4f11-96b4-096472f9afc0"
      },
      "outputs": [
        {
          "output_type": "display_data",
          "data": {
            "text/plain": [
              "<Figure size 432x288 with 1 Axes>"
            ],
            "image/png": "[encoded data removed]"
          },
          "metadata": {
            "needs_background": "light"
          }
        }
      ],
      "source": [
        "#finding outliers in Numeric data\n",
        "plt.boxplot(df['release_year'],data=df)\n",
        "plt.ylabel('release_year')\n",
        "plt.show()"
      ]
    },
    {
      "cell_type": "markdown",
      "source": [
        "As we only few old movies year data so we will not drop as we want to analyze these movies data also"
      ],
      "metadata": {
        "id": "twsBF0I0z1aH"
      },
      "id": "twsBF0I0z1aH"
    },
    {
      "cell_type": "code",
      "execution_count": 20,
      "id": "2dece873",
      "metadata": {
        "colab": {
          "base_uri": "https://localhost:8080/"
        },
        "id": "2dece873",
        "outputId": "5d9dc35e-45fc-4176-9d75-213b62fb4d6c"
      },
      "outputs": [
        {
          "output_type": "stream",
          "name": "stdout",
          "text": [
            "-7.5 20.5\n",
            "3.0\n",
            "10.0\n",
            "50\n"
          ]
        }
      ],
      "source": [
        "q1,q3=np.percentile(df['number_of_cast'],[25,75])\n",
        "iqr=q3-q1\n",
        "lower_bound=q1-1.5*iqr\n",
        "higher_bound=q3+1.5*iqr\n",
        "print(lower_bound,higher_bound)\n",
        "print(q1)\n",
        "print(q3)\n",
        "#print(df.number_of_cast.min())\n",
        "#print(df.number_of_cast.sort_values())\n",
        "print(df.number_of_cast.max())"
      ]
    },
    {
      "cell_type": "code",
      "execution_count": 21,
      "id": "84eeb863",
      "metadata": {
        "colab": {
          "base_uri": "https://localhost:8080/",
          "height": 1000
        },
        "id": "84eeb863",
        "outputId": "9c6e801e-4260-4b1a-e26d-62093d424635"
      },
      "outputs": [
        {
          "output_type": "execute_result",
          "data": {
            "text/plain": [
              "       show_id                                title  \\\n",
              "0     81193313                            Chocolate   \n",
              "1     81197050  Guatemala: Heart of the Mayan World   \n",
              "2     81213894                      The Zoya Factor   \n",
              "3     81082007                            Atlantics   \n",
              "4     80213643                      Chip and Potato   \n",
              "...        ...                                  ...   \n",
              "5832  70141644          Mad Ron's Prevues from Hell   \n",
              "5833  70127998                             Splatter   \n",
              "5834  70084180              Just Another Love Story   \n",
              "5835  70157452                      Dinner for Five   \n",
              "5836  70053412                 To and From New York   \n",
              "\n",
              "                        director  \\\n",
              "0         Raúl Campos, Jan Suter   \n",
              "1     Luis Ara, Ignacio Jaunsolo   \n",
              "2                Abhishek Sharma   \n",
              "3                      Mati Diop   \n",
              "4         Raúl Campos, Jan Suter   \n",
              "...                          ...   \n",
              "5832                  Jim Monaco   \n",
              "5833                   Joe Dante   \n",
              "5834                Ole Bornedal   \n",
              "5835      Raúl Campos, Jan Suter   \n",
              "5836        Sorin Dan Mihalcescu   \n",
              "\n",
              "                                                   cast  \\\n",
              "0     Ha Ji-won, Yoon Kye-sang, Jang Seung-jo, Kang ...   \n",
              "1                                     Christian Morales   \n",
              "2     Sonam Kapoor, Dulquer Salmaan, Sanjay Kapoor, ...   \n",
              "3     Mama Sane, Amadou Mbow, Ibrahima Traore, Nicol...   \n",
              "4     Abigail Oliver, Andrea Libman, Briana Buckmast...   \n",
              "...                                                 ...   \n",
              "5832  Nick Pawlow, Jordu Schell, Jay Kushwara, Micha...   \n",
              "5833  Corey Feldman, Tony Todd, Tara Leigh, Erin Way...   \n",
              "5834  Anders W. Berthelsen, Rebecka Hemse, Nikolaj L...   \n",
              "5835                                 David Attenborough   \n",
              "5836  Barbara King, Shaana Diya, John Krisiukenas, Y...   \n",
              "\n",
              "                       country         date_added  release_year rating  \\\n",
              "0                  South Korea  November 30, 2019          2019  TV-14   \n",
              "1                United States  November 30, 2019          2019   TV-G   \n",
              "2                        India  November 30, 2019          2019  TV-14   \n",
              "3     France, Senegal, Belgium  November 29, 2019          2019  TV-14   \n",
              "4       Canada, United Kingdom   November 1, 2019          2019   TV-Y   \n",
              "...                        ...                ...           ...    ...   \n",
              "5832             United States   November 1, 2010          1987     NR   \n",
              "5833             United States  November 18, 2009          2009  TV-14   \n",
              "5834                   Denmark        May 5, 2009          2007     NR   \n",
              "5835             United States   February 4, 2008          2007  TV-MA   \n",
              "5836             United States    January 1, 2008          2006     NR   \n",
              "\n",
              "       duration                                          listed_in  \\\n",
              "0      1 Season  International TV Shows, Korean TV Shows, Roman...   \n",
              "1        67 min                Documentaries, International Movies   \n",
              "2       135 min             Comedies, Dramas, International Movies   \n",
              "3       106 min   Dramas, Independent Movies, International Movies   \n",
              "4     2 Seasons                                           Kids' TV   \n",
              "...         ...                                                ...   \n",
              "5832     84 min                         Cult Movies, Horror Movies   \n",
              "5833     29 min                                      Horror Movies   \n",
              "5834    104 min                       Dramas, International Movies   \n",
              "5835   1 Season                       Stand-Up Comedy & Talk Shows   \n",
              "5836     81 min              Dramas, Independent Movies, Thrillers   \n",
              "\n",
              "                                            description     type  \\\n",
              "0     Brought together by meaningful meals in the pa...  TV Show   \n",
              "1     From Sierra de las Minas to Esquipulas, explor...    Movie   \n",
              "2     A goofy copywriter unwittingly convinces the I...    Movie   \n",
              "3     Arranged to marry a rich man, young Ada is cru...    Movie   \n",
              "4     Lovable pug Chip starts kindergarten, makes ne...  TV Show   \n",
              "...                                                 ...      ...   \n",
              "5832  This collection cherry-picks trailers, forgott...    Movie   \n",
              "5833  After committing suicide, a washed-up rocker r...    Movie   \n",
              "5834  When he causes a car accident that leaves a yo...    Movie   \n",
              "5835  In each episode, four celebrities join host Jo...  TV Show   \n",
              "5836  While covering a story in New York City, a Sea...    Movie   \n",
              "\n",
              "      number_of_cast  \n",
              "0                  8  \n",
              "1                  1  \n",
              "2                  8  \n",
              "3                  9  \n",
              "4                 10  \n",
              "...              ...  \n",
              "5832              10  \n",
              "5833               6  \n",
              "5834              12  \n",
              "5835               0  \n",
              "5836               6  \n",
              "\n",
              "[5771 rows x 13 columns]"
            ],
            "text/html": [
              "\n",
              "  <div id=\"df-afc3d5a7-c8f0-4d75-a980-65c76ae936a7\">\n",
              "    <div class=\"colab-df-container\">\n",
              "      <div>\n",
              "<style scoped>\n",
              "    .dataframe tbody tr th:only-of-type {\n",
              "        vertical-align: middle;\n",
              "    }\n",
              "\n",
              "    .dataframe tbody tr th {\n",
              "        vertical-align: top;\n",
              "    }\n",
              "\n",
              "    .dataframe thead th {\n",
              "        text-align: right;\n",
              "    }\n",
              "</style>\n",
              "<table border=\"1\" class=\"dataframe\">\n",
              "  <thead>\n",
              "    <tr style=\"text-align: right;\">\n",
              "      <th></th>\n",
              "      <th>show_id</th>\n",
              "      <th>title</th>\n",
              "      <th>director</th>\n",
              "      <th>cast</th>\n",
              "      <th>country</th>\n",
              "      <th>date_added</th>\n",
              "      <th>release_year</th>\n",
              "      <th>rating</th>\n",
              "      <th>duration</th>\n",
              "      <th>listed_in</th>\n",
              "      <th>description</th>\n",
              "      <th>type</th>\n",
              "      <th>number_of_cast</th>\n",
              "    </tr>\n",
              "  </thead>\n",
              "  <tbody>\n",
              "    <tr>\n",
              "      <th>0</th>\n",
              "      <td>81193313</td>\n",
              "      <td>Chocolate</td>\n",
              "      <td>Raúl Campos, Jan Suter</td>\n",
              "      <td>Ha Ji-won, Yoon Kye-sang, Jang Seung-jo, Kang ...</td>\n",
              "      <td>South Korea</td>\n",
              "      <td>November 30, 2019</td>\n",
              "      <td>2019</td>\n",
              "      <td>TV-14</td>\n",
              "      <td>1 Season</td>\n",
              "      <td>International TV Shows, Korean TV Shows, Roman...</td>\n",
              "      <td>Brought together by meaningful meals in the pa...</td>\n",
              "      <td>TV Show</td>\n",
              "      <td>8</td>\n",
              "    </tr>\n",
              "    <tr>\n",
              "      <th>1</th>\n",
              "      <td>81197050</td>\n",
              "      <td>Guatemala: Heart of the Mayan World</td>\n",
              "      <td>Luis Ara, Ignacio Jaunsolo</td>\n",
              "      <td>Christian Morales</td>\n",
              "      <td>United States</td>\n",
              "      <td>November 30, 2019</td>\n",
              "      <td>2019</td>\n",
              "      <td>TV-G</td>\n",
              "      <td>67 min</td>\n",
              "      <td>Documentaries, International Movies</td>\n",
              "      <td>From Sierra de las Minas to Esquipulas, explor...</td>\n",
              "      <td>Movie</td>\n",
              "      <td>1</td>\n",
              "    </tr>\n",
              "    <tr>\n",
              "      <th>2</th>\n",
              "      <td>81213894</td>\n",
              "      <td>The Zoya Factor</td>\n",
              "      <td>Abhishek Sharma</td>\n",
              "      <td>Sonam Kapoor, Dulquer Salmaan, Sanjay Kapoor, ...</td>\n",
              "      <td>India</td>\n",
              "      <td>November 30, 2019</td>\n",
              "      <td>2019</td>\n",
              "      <td>TV-14</td>\n",
              "      <td>135 min</td>\n",
              "      <td>Comedies, Dramas, International Movies</td>\n",
              "      <td>A goofy copywriter unwittingly convinces the I...</td>\n",
              "      <td>Movie</td>\n",
              "      <td>8</td>\n",
              "    </tr>\n",
              "    <tr>\n",
              "      <th>3</th>\n",
              "      <td>81082007</td>\n",
              "      <td>Atlantics</td>\n",
              "      <td>Mati Diop</td>\n",
              "      <td>Mama Sane, Amadou Mbow, Ibrahima Traore, Nicol...</td>\n",
              "      <td>France, Senegal, Belgium</td>\n",
              "      <td>November 29, 2019</td>\n",
              "      <td>2019</td>\n",
              "      <td>TV-14</td>\n",
              "      <td>106 min</td>\n",
              "      <td>Dramas, Independent Movies, International Movies</td>\n",
              "      <td>Arranged to marry a rich man, young Ada is cru...</td>\n",
              "      <td>Movie</td>\n",
              "      <td>9</td>\n",
              "    </tr>\n",
              "    <tr>\n",
              "      <th>4</th>\n",
              "      <td>80213643</td>\n",
              "      <td>Chip and Potato</td>\n",
              "      <td>Raúl Campos, Jan Suter</td>\n",
              "      <td>Abigail Oliver, Andrea Libman, Briana Buckmast...</td>\n",
              "      <td>Canada, United Kingdom</td>\n",
              "      <td>November 1, 2019</td>\n",
              "      <td>2019</td>\n",
              "      <td>TV-Y</td>\n",
              "      <td>2 Seasons</td>\n",
              "      <td>Kids' TV</td>\n",
              "      <td>Lovable pug Chip starts kindergarten, makes ne...</td>\n",
              "      <td>TV Show</td>\n",
              "      <td>10</td>\n",
              "    </tr>\n",
              "    <tr>\n",
              "      <th>...</th>\n",
              "      <td>...</td>\n",
              "      <td>...</td>\n",
              "      <td>...</td>\n",
              "      <td>...</td>\n",
              "      <td>...</td>\n",
              "      <td>...</td>\n",
              "      <td>...</td>\n",
              "      <td>...</td>\n",
              "      <td>...</td>\n",
              "      <td>...</td>\n",
              "      <td>...</td>\n",
              "      <td>...</td>\n",
              "      <td>...</td>\n",
              "    </tr>\n",
              "    <tr>\n",
              "      <th>5832</th>\n",
              "      <td>70141644</td>\n",
              "      <td>Mad Ron's Prevues from Hell</td>\n",
              "      <td>Jim Monaco</td>\n",
              "      <td>Nick Pawlow, Jordu Schell, Jay Kushwara, Micha...</td>\n",
              "      <td>United States</td>\n",
              "      <td>November 1, 2010</td>\n",
              "      <td>1987</td>\n",
              "      <td>NR</td>\n",
              "      <td>84 min</td>\n",
              "      <td>Cult Movies, Horror Movies</td>\n",
              "      <td>This collection cherry-picks trailers, forgott...</td>\n",
              "      <td>Movie</td>\n",
              "      <td>10</td>\n",
              "    </tr>\n",
              "    <tr>\n",
              "      <th>5833</th>\n",
              "      <td>70127998</td>\n",
              "      <td>Splatter</td>\n",
              "      <td>Joe Dante</td>\n",
              "      <td>Corey Feldman, Tony Todd, Tara Leigh, Erin Way...</td>\n",
              "      <td>United States</td>\n",
              "      <td>November 18, 2009</td>\n",
              "      <td>2009</td>\n",
              "      <td>TV-14</td>\n",
              "      <td>29 min</td>\n",
              "      <td>Horror Movies</td>\n",
              "      <td>After committing suicide, a washed-up rocker r...</td>\n",
              "      <td>Movie</td>\n",
              "      <td>6</td>\n",
              "    </tr>\n",
              "    <tr>\n",
              "      <th>5834</th>\n",
              "      <td>70084180</td>\n",
              "      <td>Just Another Love Story</td>\n",
              "      <td>Ole Bornedal</td>\n",
              "      <td>Anders W. Berthelsen, Rebecka Hemse, Nikolaj L...</td>\n",
              "      <td>Denmark</td>\n",
              "      <td>May 5, 2009</td>\n",
              "      <td>2007</td>\n",
              "      <td>NR</td>\n",
              "      <td>104 min</td>\n",
              "      <td>Dramas, International Movies</td>\n",
              "      <td>When he causes a car accident that leaves a yo...</td>\n",
              "      <td>Movie</td>\n",
              "      <td>12</td>\n",
              "    </tr>\n",
              "    <tr>\n",
              "      <th>5835</th>\n",
              "      <td>70157452</td>\n",
              "      <td>Dinner for Five</td>\n",
              "      <td>Raúl Campos, Jan Suter</td>\n",
              "      <td>David Attenborough</td>\n",
              "      <td>United States</td>\n",
              "      <td>February 4, 2008</td>\n",
              "      <td>2007</td>\n",
              "      <td>TV-MA</td>\n",
              "      <td>1 Season</td>\n",
              "      <td>Stand-Up Comedy &amp; Talk Shows</td>\n",
              "      <td>In each episode, four celebrities join host Jo...</td>\n",
              "      <td>TV Show</td>\n",
              "      <td>0</td>\n",
              "    </tr>\n",
              "    <tr>\n",
              "      <th>5836</th>\n",
              "      <td>70053412</td>\n",
              "      <td>To and From New York</td>\n",
              "      <td>Sorin Dan Mihalcescu</td>\n",
              "      <td>Barbara King, Shaana Diya, John Krisiukenas, Y...</td>\n",
              "      <td>United States</td>\n",
              "      <td>January 1, 2008</td>\n",
              "      <td>2006</td>\n",
              "      <td>NR</td>\n",
              "      <td>81 min</td>\n",
              "      <td>Dramas, Independent Movies, Thrillers</td>\n",
              "      <td>While covering a story in New York City, a Sea...</td>\n",
              "      <td>Movie</td>\n",
              "      <td>6</td>\n",
              "    </tr>\n",
              "  </tbody>\n",
              "</table>\n",
              "<p>5771 rows × 13 columns</p>\n",
              "</div>\n",
              "      <button class=\"colab-df-convert\" onclick=\"convertToInteractive('df-afc3d5a7-c8f0-4d75-a980-65c76ae936a7')\"\n",
              "              title=\"Convert this dataframe to an interactive table.\"\n",
              "              style=\"display:none;\">\n",
              "        \n",
              "  <svg xmlns=\"http://www.w3.org/2000/svg\" height=\"24px\"viewBox=\"0 0 24 24\"\n",
              "       width=\"24px\">\n",
              "    <path d=\"M0 0h24v24H0V0z\" fill=\"none\"/>\n",
              "    <path d=\"M18.56 5.44l.94 2.06.94-2.06 2.06-.94-2.06-.94-.94-2.06-.94 2.06-2.06.94zm-11 1L8.5 8.5l.94-2.06 2.06-.94-2.06-.94L8.5 2.5l-.94 2.06-2.06.94zm10 10l.94 2.06.94-2.06 2.06-.94-2.06-.94-.94-2.06-.94 2.06-2.06.94z\"/><path d=\"M17.41 7.96l-1.37-1.37c-.4-.4-.92-.59-1.43-.59-.52 0-1.04.2-1.43.59L10.3 9.45l-7.72 7.72c-.78.78-.78 2.05 0 2.83L4 21.41c.39.39.9.59 1.41.59.51 0 1.02-.2 1.41-.59l7.78-7.78 2.81-2.81c.8-.78.8-2.07 0-2.86zM5.41 20L4 18.59l7.72-7.72 1.47 1.35L5.41 20z\"/>\n",
              "  </svg>\n",
              "      </button>\n",
              "      \n",
              "  <style>\n",
              "    .colab-df-container {\n",
              "      display:flex;\n",
              "      flex-wrap:wrap;\n",
              "      gap: 12px;\n",
              "    }\n",
              "\n",
              "    .colab-df-convert {\n",
              "      background-color: #E8F0FE;\n",
              "      border: none;\n",
              "      border-radius: 50%;\n",
              "      cursor: pointer;\n",
              "      display: none;\n",
              "      fill: #1967D2;\n",
              "      height: 32px;\n",
              "      padding: 0 0 0 0;\n",
              "      width: 32px;\n",
              "    }\n",
              "\n",
              "    .colab-df-convert:hover {\n",
              "      background-color: #E2EBFA;\n",
              "      box-shadow: 0px 1px 2px rgba(60, 64, 67, 0.3), 0px 1px 3px 1px rgba(60, 64, 67, 0.15);\n",
              "      fill: #174EA6;\n",
              "    }\n",
              "\n",
              "    [theme=dark] .colab-df-convert {\n",
              "      background-color: #3B4455;\n",
              "      fill: #D2E3FC;\n",
              "    }\n",
              "\n",
              "    [theme=dark] .colab-df-convert:hover {\n",
              "      background-color: #434B5C;\n",
              "      box-shadow: 0px 1px 3px 1px rgba(0, 0, 0, 0.15);\n",
              "      filter: drop-shadow(0px 1px 2px rgba(0, 0, 0, 0.3));\n",
              "      fill: #FFFFFF;\n",
              "    }\n",
              "  </style>\n",
              "\n",
              "      <script>\n",
              "        const buttonEl =\n",
              "          document.querySelector('#df-afc3d5a7-c8f0-4d75-a980-65c76ae936a7 button.colab-df-convert');\n",
              "        buttonEl.style.display =\n",
              "          google.colab.kernel.accessAllowed ? 'block' : 'none';\n",
              "\n",
              "        async function convertToInteractive(key) {\n",
              "          const element = document.querySelector('#df-afc3d5a7-c8f0-4d75-a980-65c76ae936a7');\n",
              "          const dataTable =\n",
              "            await google.colab.kernel.invokeFunction('convertToInteractive',\n",
              "                                                     [key], {});\n",
              "          if (!dataTable) return;\n",
              "\n",
              "          const docLinkHtml = 'Like what you see? Visit the ' +\n",
              "            '<a target=\"_blank\" href=https://colab.research.google.com/notebooks/data_table.ipynb>data table notebook</a>'\n",
              "            + ' to learn more about interactive tables.';\n",
              "          element.innerHTML = '';\n",
              "          dataTable['output_type'] = 'display_data';\n",
              "          await google.colab.output.renderOutput(dataTable, element);\n",
              "          const docLink = document.createElement('div');\n",
              "          docLink.innerHTML = docLinkHtml;\n",
              "          element.appendChild(docLink);\n",
              "        }\n",
              "      </script>\n",
              "    </div>\n",
              "  </div>\n",
              "  "
            ]
          },
          "metadata": {},
          "execution_count": 21
        }
      ],
      "source": [
        "df=df[(df['number_of_cast']>-7.5 ) & (df['number_of_cast']<20.5)]\n",
        "df"
      ]
    },
    {
      "cell_type": "code",
      "source": [
        "df.shape"
      ],
      "metadata": {
        "colab": {
          "base_uri": "https://localhost:8080/"
        },
        "id": "qybDPdwF0KkK",
        "outputId": "7b3d64d6-47fb-4a46-d5ea-10dffe74e660"
      },
      "id": "qybDPdwF0KkK",
      "execution_count": 22,
      "outputs": [
        {
          "output_type": "execute_result",
          "data": {
            "text/plain": [
              "(5771, 13)"
            ]
          },
          "metadata": {},
          "execution_count": 22
        }
      ]
    },
    {
      "cell_type": "markdown",
      "id": "53851015",
      "metadata": {
        "id": "53851015"
      },
      "source": [
        "So our actual dataframe after data cleaning have 5771 rows and 13 columns"
      ]
    },
    {
      "cell_type": "markdown",
      "id": "46307e39",
      "metadata": {
        "id": "46307e39"
      },
      "source": [
        "EDA"
      ]
    },
    {
      "cell_type": "markdown",
      "source": [
        "Movies and Tvshow distributions"
      ],
      "metadata": {
        "id": "w2JtctuS0OtZ"
      },
      "id": "w2JtctuS0OtZ"
    },
    {
      "cell_type": "code",
      "execution_count": 23,
      "id": "5ae54819",
      "metadata": {
        "colab": {
          "base_uri": "https://localhost:8080/",
          "height": 366
        },
        "id": "5ae54819",
        "outputId": "f4c55f46-3696-466e-bbaa-210b5a65941a"
      },
      "outputs": [
        {
          "output_type": "display_data",
          "data": {
            "text/plain": [
              "<Figure size 432x576 with 1 Axes>"
            ],
            "image/png": "[encoded data removed]"
          },
          "metadata": {}
        }
      ],
      "source": [
        "plt.figure(figsize=(6,8))\n",
        "plt.pie(x=df.type.value_counts(),autopct='%2f%%',labels=['movies','tv_shows'])\n",
        "plt.show()\n"
      ]
    },
    {
      "cell_type": "code",
      "execution_count": 24,
      "id": "c4b3463d",
      "metadata": {
        "colab": {
          "base_uri": "https://localhost:8080/",
          "height": 960
        },
        "id": "c4b3463d",
        "outputId": "cbf07128-fe1d-41d9-d363-4a8c6fc65f0d"
      },
      "outputs": [
        {
          "output_type": "display_data",
          "data": {
            "text/plain": [
              "<Figure size 1152x1152 with 1 Axes>"
            ],
            "image/png": "[encoded data removed]"
          },
          "metadata": {
            "needs_background": "light"
          }
        }
      ],
      "source": [
        "plt.figure(figsize=(16,16))\n",
        "sns.countplot(y=df.release_year.sort_values( ascending=True),hue='type',data=df)\n",
        "plt.tight_layout()\n",
        "plt.show()"
      ]
    },
    {
      "cell_type": "markdown",
      "source": [
        "In 2018 Netflix release most number of content in the form of movies and Tv show"
      ],
      "metadata": {
        "id": "LSGrPdFp0cBm"
      },
      "id": "LSGrPdFp0cBm"
    },
    {
      "cell_type": "code",
      "execution_count": 25,
      "id": "dcba90ce",
      "metadata": {
        "colab": {
          "base_uri": "https://localhost:8080/",
          "height": 960
        },
        "id": "dcba90ce",
        "outputId": "f6a52014-b30a-42a7-861c-e3c29ceb6cab"
      },
      "outputs": [
        {
          "output_type": "display_data",
          "data": {
            "text/plain": [
              "<Figure size 1152x1152 with 1 Axes>"
            ],
            "image/png": "[encoded data removed]"
          },
          "metadata": {
            "needs_background": "light"
          }
        }
      ],
      "source": [
        "plt.figure(figsize=(16,16))\n",
        "sns.countplot(x=df.rating,hue='type',data=df)\n",
        "plt.tight_layout()\n",
        "plt.show()\n"
      ]
    },
    {
      "cell_type": "code",
      "execution_count": 26,
      "id": "55e3666a",
      "metadata": {
        "colab": {
          "base_uri": "https://localhost:8080/"
        },
        "id": "55e3666a",
        "outputId": "71ee34ba-b0e7-4d16-c9b2-de485ac05730"
      },
      "outputs": [
        {
          "output_type": "execute_result",
          "data": {
            "text/plain": [
              "525"
            ]
          },
          "metadata": {},
          "execution_count": 26
        }
      ],
      "source": [
        "df.country.nunique()"
      ]
    },
    {
      "cell_type": "markdown",
      "source": [
        "As we have approx 525 unique country where Netflix released its content so we will try to find most productive countries and will try to perform EDA operations on them"
      ],
      "metadata": {
        "id": "-blFBevx07uZ"
      },
      "id": "-blFBevx07uZ"
    },
    {
      "cell_type": "code",
      "execution_count": 27,
      "id": "00e4e05b",
      "metadata": {
        "colab": {
          "base_uri": "https://localhost:8080/"
        },
        "id": "00e4e05b",
        "outputId": "4d9f235b-0f1b-4230-d5b9-07c131f276b6"
      },
      "outputs": [
        {
          "output_type": "execute_result",
          "data": {
            "text/plain": [
              "United States     2304\n",
              "India              696\n",
              "United Kingdom     333\n",
              "Japan              154\n",
              "Canada             139\n",
              "South Korea        133\n",
              "Spain              111\n",
              "France              84\n",
              "Mexico              79\n",
              "Turkey              78\n",
              "Name: country, dtype: int64"
            ]
          },
          "metadata": {},
          "execution_count": 27
        }
      ],
      "source": [
        "df.country.value_counts().head(10)"
      ]
    },
    {
      "cell_type": "code",
      "execution_count": 28,
      "id": "49f0ba18",
      "metadata": {
        "colab": {
          "base_uri": "https://localhost:8080/",
          "height": 715
        },
        "id": "49f0ba18",
        "outputId": "8b84d5e4-a8a3-472e-cf04-b0d9b4f58461"
      },
      "outputs": [
        {
          "output_type": "display_data",
          "data": {
            "text/plain": [
              "<Figure size 864x864 with 1 Axes>"
            ],
            "image/png": "[encoded data removed]"
          },
          "metadata": {
            "needs_background": "light"
          }
        }
      ],
      "source": [
        "most_used_country=df[(df['country']=='United States')|(df['country']=='India')|\n",
        "                    (df['country']=='United Kingdom')|\n",
        "                    (df['country']=='Japan')|\n",
        "                    (df['country']=='Canada')|\n",
        "                    (df['country']=='South Korea')|\n",
        "                    (df['country']=='Spain')]\n",
        "plt.figure(figsize=(12,12))\n",
        "sns.countplot(x='country',hue='type',data=most_used_country)\n",
        "plt.show()"
      ]
    },
    {
      "cell_type": "code",
      "execution_count": 29,
      "id": "2e637cd7",
      "metadata": {
        "colab": {
          "base_uri": "https://localhost:8080/"
        },
        "id": "2e637cd7",
        "outputId": "8f40278e-d2ae-4b0d-a365-17040fec62f6"
      },
      "outputs": [
        {
          "output_type": "stream",
          "name": "stdout",
          "text": [
            "South Korea\n",
            "TV-14       51.127820\n",
            "TV-MA       34.586466\n",
            "TV-PG        6.015038\n",
            "TV-Y         3.759398\n",
            "NR           2.255639\n",
            "TV-Y7        1.503759\n",
            "TV-Y7-FV     0.751880\n",
            "Name: rating, dtype: float64\n",
            "----------\n",
            "United States\n",
            "TV-MA       30.859375\n",
            "TV-14       20.008681\n",
            "TV-PG       11.631944\n",
            "R           10.069444\n",
            "PG-13        5.772569\n",
            "PG           3.949653\n",
            "NR           3.949653\n",
            "TV-Y7        3.732639\n",
            "TV-Y         3.298611\n",
            "TV-G         3.255208\n",
            "TV-Y7-FV     2.256944\n",
            "G            1.085069\n",
            "UR           0.086806\n",
            "NC-17        0.043403\n",
            "Name: rating, dtype: float64\n",
            "----------\n",
            "India\n",
            "TV-14       53.160920\n",
            "TV-MA       23.419540\n",
            "TV-PG       17.097701\n",
            "NR           2.729885\n",
            "TV-G         1.005747\n",
            "TV-Y7        0.718391\n",
            "PG-13        0.574713\n",
            "PG           0.431034\n",
            "TV-Y7-FV     0.287356\n",
            "R            0.287356\n",
            "TV-Y         0.143678\n",
            "UR           0.143678\n",
            "Name: rating, dtype: float64\n",
            "----------\n",
            "Japan\n",
            "TV-14       43.506494\n",
            "TV-MA       25.974026\n",
            "TV-PG       11.038961\n",
            "NR           7.792208\n",
            "TV-Y7        5.844156\n",
            "PG-13        1.948052\n",
            "TV-Y7-FV     1.298701\n",
            "TV-Y         1.298701\n",
            "PG           0.649351\n",
            "TV-G         0.649351\n",
            "Name: rating, dtype: float64\n",
            "----------\n",
            "Spain\n",
            "TV-MA    63.963964\n",
            "TV-14    19.819820\n",
            "NR        7.207207\n",
            "TV-PG     3.603604\n",
            "PG        1.801802\n",
            "R         1.801802\n",
            "TV-Y      0.900901\n",
            "TV-G      0.900901\n",
            "Name: rating, dtype: float64\n",
            "----------\n",
            "United Kingdom\n",
            "TV-MA       40.540541\n",
            "TV-14       22.222222\n",
            "TV-PG       18.618619\n",
            "R            7.207207\n",
            "TV-G         6.306306\n",
            "NR           2.402402\n",
            "TV-Y7        0.900901\n",
            "TV-Y         0.600601\n",
            "PG           0.600601\n",
            "G            0.300300\n",
            "TV-Y7-FV     0.300300\n",
            "Name: rating, dtype: float64\n",
            "----------\n",
            "Canada\n",
            "TV-MA       31.654676\n",
            "TV-14       17.985612\n",
            "TV-PG       15.107914\n",
            "R            7.913669\n",
            "PG           5.035971\n",
            "TV-Y         4.316547\n",
            "TV-G         4.316547\n",
            "TV-Y7        4.316547\n",
            "TV-Y7-FV     3.597122\n",
            "NR           3.597122\n",
            "PG-13        1.438849\n",
            "G            0.719424\n",
            "Name: rating, dtype: float64\n",
            "----------\n"
          ]
        }
      ],
      "source": [
        "for i in most_used_country['country'].unique():\n",
        "    print(i)\n",
        "    print(most_used_country[most_used_country['country']==i]['rating'].value_counts(normalize=True)*100)\n",
        "    print('-'*10)"
      ]
    },
    {
      "cell_type": "code",
      "execution_count": 30,
      "id": "43bd05c6",
      "metadata": {
        "id": "43bd05c6"
      },
      "outputs": [],
      "source": [
        "df['date_added']=pd.to_datetime(df['date_added'])\n",
        "df['year_added']=df['date_added'].dt.year"
      ]
    },
    {
      "cell_type": "code",
      "source": [
        "df.date_added.value_counts()"
      ],
      "metadata": {
        "colab": {
          "base_uri": "https://localhost:8080/"
        },
        "id": "ueqNLKxI1p5U",
        "outputId": "c39f600c-b1fc-4755-e6cd-23b88ab34350"
      },
      "id": "ueqNLKxI1p5U",
      "execution_count": 31,
      "outputs": [
        {
          "output_type": "execute_result",
          "data": {
            "text/plain": [
              "2019-11-01    710\n",
              "2018-03-01     78\n",
              "2018-10-01     72\n",
              "2019-10-01     71\n",
              "2018-11-01     59\n",
              "             ... \n",
              "2017-07-04      1\n",
              "2019-04-09      1\n",
              "2017-07-10      1\n",
              "2017-07-12      1\n",
              "2008-01-01      1\n",
              "Name: date_added, Length: 1086, dtype: int64"
            ]
          },
          "metadata": {},
          "execution_count": 31
        }
      ]
    },
    {
      "cell_type": "code",
      "execution_count": 32,
      "id": "4fd88093",
      "metadata": {
        "colab": {
          "base_uri": "https://localhost:8080/",
          "height": 298
        },
        "id": "4fd88093",
        "outputId": "8a4cb603-2946-437d-c9be-89731dc84d90"
      },
      "outputs": [
        {
          "output_type": "execute_result",
          "data": {
            "text/plain": [
              "<matplotlib.axes._subplots.AxesSubplot at 0x7f6112c98ad0>"
            ]
          },
          "metadata": {},
          "execution_count": 32
        },
        {
          "output_type": "display_data",
          "data": {
            "text/plain": [
              "<Figure size 432x288 with 1 Axes>"
            ],
            "image/png": "[encoded data removed]"
          },
          "metadata": {
            "needs_background": "light"
          }
        }
      ],
      "source": [
        "df['year_added'].value_counts().plot(kind='bar')"
      ]
    },
    {
      "cell_type": "markdown",
      "source": [
        "So in 2019 Netflix added most number of content . we donot have date of 2020 but we can predict that 2020 will be blasting year for netfix by seeing the date_added data of movies and tv show"
      ],
      "metadata": {
        "id": "urM_CbQr2SXp"
      },
      "id": "urM_CbQr2SXp"
    },
    {
      "cell_type": "code",
      "source": [
        "df['cast'].str.split(', ').explode('cast').value_counts().head(10).plot(kind='bar')"
      ],
      "metadata": {
        "colab": {
          "base_uri": "https://localhost:8080/",
          "height": 376
        },
        "id": "aJxyYoYR-pbL",
        "outputId": "24b61d42-2434-42ea-ccd6-ea0113be096e"
      },
      "id": "aJxyYoYR-pbL",
      "execution_count": 34,
      "outputs": [
        {
          "output_type": "execute_result",
          "data": {
            "text/plain": [
              "<matplotlib.axes._subplots.AxesSubplot at 0x7f61129721d0>"
            ]
          },
          "metadata": {},
          "execution_count": 34
        },
        {
          "output_type": "display_data",
          "data": {
            "text/plain": [
              "<Figure size 432x288 with 1 Axes>"
            ],
            "image/png": "[encoded data removed]"
          },
          "metadata": {
            "needs_background": "light"
          }
        }
      ]
    },
    {
      "cell_type": "code",
      "source": [
        "df1=df[df['cast'].str.find('Anupam Kher')>0]\n",
        "df1.type.value_counts()"
      ],
      "metadata": {
        "colab": {
          "base_uri": "https://localhost:8080/"
        },
        "id": "edVnPU8N_apV",
        "outputId": "27abc6cb-9798-4301-aac1-3ce4e6ec903a"
      },
      "id": "edVnPU8N_apV",
      "execution_count": 37,
      "outputs": [
        {
          "output_type": "execute_result",
          "data": {
            "text/plain": [
              "Movie      25\n",
              "TV Show     1\n",
              "Name: type, dtype: int64"
            ]
          },
          "metadata": {},
          "execution_count": 37
        }
      ]
    },
    {
      "cell_type": "markdown",
      "source": [
        "Anupam kher have worked  in around 25 movies  and 1 Tv Show"
      ],
      "metadata": {
        "id": "HPfUxFYThdQ6"
      },
      "id": "HPfUxFYThdQ6"
    },
    {
      "cell_type": "code",
      "source": [
        "df.director.value_counts().head(10).plot(kind='bar')"
      ],
      "metadata": {
        "colab": {
          "base_uri": "https://localhost:8080/",
          "height": 389
        },
        "id": "x7GDjHXehb26",
        "outputId": "e7ed1efd-3efe-4d37-dabb-1811b3ca6c3e"
      },
      "id": "x7GDjHXehb26",
      "execution_count": 41,
      "outputs": [
        {
          "output_type": "execute_result",
          "data": {
            "text/plain": [
              "<matplotlib.axes._subplots.AxesSubplot at 0x7f610f50b310>"
            ]
          },
          "metadata": {},
          "execution_count": 41
        },
        {
          "output_type": "display_data",
          "data": {
            "text/plain": [
              "<Figure size 432x288 with 1 Axes>"
            ],
            "image/png": "[encoded data removed]"
          },
          "metadata": {
            "needs_background": "light"
          }
        }
      ]
    }
  ],
  "metadata": {
    "celltoolbar": "Raw Cell Format",
    "kernelspec": {
      "display_name": "Python 3 (ipykernel)",
      "language": "python",
      "name": "python3"
    },
    "language_info": {
      "codemirror_mode": {
        "name": "ipython",
        "version": 3
      },
      "file_extension": ".py",
      "mimetype": "text/x-python",
      "name": "python",
      "nbconvert_exporter": "python",
      "pygments_lexer": "ipython3",
      "version": "3.9.12"
    },
    "colab": {
      "name": "netflix_case_Study.ipynb",
      "provenance": []
    }
  },
  "nbformat": 4,
  "nbformat_minor": 5
}